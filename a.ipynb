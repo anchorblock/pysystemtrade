{
 "cells": [
  {
   "cell_type": "code",
   "execution_count": 1,
   "metadata": {},
   "outputs": [],
   "source": [
    "import pandas as pd\n",
    "import numpy as np"
   ]
  },
  {
   "cell_type": "code",
   "execution_count": 13,
   "metadata": {},
   "outputs": [
    {
     "name": "stdout",
     "output_type": "stream",
     "text": [
      "2023-08-06 18:13:12 DEBUG base_system {'stage': 'config'} Adding config defaults\n",
      "2023-08-06 18:13:12 DEBUG base_system Following instruments are 'duplicate_markets' ['Another_thing', 'bad_thing'] \n",
      "2023-08-06 18:13:12 DEBUG base_system Following instruments are marked as 'ignore_instruments': not included: ['EXAMPLE']\n",
      "2023-08-06 18:13:12 DEBUG base_system Following instruments removed entirely from sim: ['Another_thing', 'EXAMPLE', 'bad_thing']\n",
      "2023-08-06 18:13:12 DEBUG base_system {'stage': 'portfolio', 'instrument_code': 'EDOLLAR'} Calculating notional position for EDOLLAR\n",
      "2023-08-06 18:13:12 INFO base_system {'stage': 'portfolio', 'instrument_code': 'EDOLLAR'} Calculating instrument weights\n",
      "2023-08-06 18:13:12 DEBUG base_system {'stage': 'portfolio', 'instrument_code': 'EDOLLAR'} Calculating raw instrument weights\n",
      "2023-08-06 18:13:12 DEBUG base_system Following instruments are 'duplicate_markets' ['Another_thing', 'bad_thing'] \n",
      "2023-08-06 18:13:12 DEBUG base_system Following instruments are marked as 'ignore_instruments': not included: ['EXAMPLE']\n",
      "2023-08-06 18:13:12 DEBUG base_system Following instruments are marked as 'bad_markets':  ['BAD_EXAMPLE']\n",
      "2023-08-06 18:13:12 DEBUG base_system Following instruments have restricted trading:  ['RESTRICTED_EXAMPLE'] \n",
      "2023-08-06 18:13:12 DEBUG base_system Following instruments marked as not trading []\n",
      "2023-08-06 18:13:12 DEBUG base_system {'stage': 'positionSize', 'instrument_code': 'CORN'} Calculating subsystem position for CORN\n",
      "2023-08-06 18:13:12 DEBUG base_system {'stage': 'positionSize', 'instrument_code': 'CORN'} Calculating volatility scalar for CORN\n",
      "2023-08-06 18:13:12 DEBUG base_system {'stage': 'positionSize', 'instrument_code': 'CORN'} Calculating instrument value vol for CORN\n",
      "2023-08-06 18:13:12 DEBUG base_system {'stage': 'positionSize', 'instrument_code': 'CORN'} Calculating instrument currency vol for CORN\n",
      "2023-08-06 18:13:12 DEBUG base_system {'stage': 'rawdata', 'instrument_code': 'CORN'} Calculating daily volatility for CORN\n",
      "2023-08-06 18:13:12 DEBUG base_system {'stage': 'rawdata', 'instrument_code': 'CORN'} Calculating daily prices for CORN\n",
      "2023-08-06 18:13:12 DEBUG base_system {'stage': 'combForecast', 'instrument_code': 'CORN'} Calculating combined forecast for CORN\n",
      "2023-08-06 18:13:12 DEBUG base_system {'stage': 'forecastScaleCap', 'instrument_code': 'CORN'} Calculating capped forecast for CORN carry\n",
      "2023-08-06 18:13:12 DEBUG base_system {'stage': 'rules', 'instrument_code': 'CORN'} Calculating raw forecast CORN for carry\n",
      "2023-08-06 18:13:12 DEBUG base_system {'stage': 'forecastScaleCap', 'instrument_code': 'CORN'} Calculating capped forecast for CORN ewmac16_64\n",
      "2023-08-06 18:13:12 DEBUG base_system {'stage': 'rules', 'instrument_code': 'CORN'} Calculating raw forecast CORN for ewmac16_64\n",
      "2023-08-06 18:13:12 DEBUG base_system {'stage': 'rawdata', 'instrument_code': 'CORN'} Calculating daily prices for CORN\n",
      "2023-08-06 18:13:12 DEBUG base_system {'stage': 'forecastScaleCap', 'instrument_code': 'CORN'} Calculating capped forecast for CORN ewmac32_128\n",
      "2023-08-06 18:13:12 DEBUG base_system {'stage': 'rules', 'instrument_code': 'CORN'} Calculating raw forecast CORN for ewmac32_128\n",
      "2023-08-06 18:13:12 DEBUG base_system {'stage': 'rawdata', 'instrument_code': 'CORN'} Calculating daily prices for CORN\n",
      "2023-08-06 18:13:12 DEBUG base_system {'stage': 'forecastScaleCap', 'instrument_code': 'CORN'} Calculating capped forecast for CORN ewmac64_256\n",
      "2023-08-06 18:13:12 DEBUG base_system {'stage': 'rules', 'instrument_code': 'CORN'} Calculating raw forecast CORN for ewmac64_256\n",
      "2023-08-06 18:13:12 DEBUG base_system {'stage': 'rawdata', 'instrument_code': 'CORN'} Calculating daily prices for CORN\n",
      "2023-08-06 18:13:12 DEBUG base_system {'stage': 'combForecast', 'instrument_code': 'CORN'} Calculating forecast weights for CORN\n",
      "2023-08-06 18:13:12 DEBUG base_system {'stage': 'forecastScaleCap', 'instrument_code': 'EDOLLAR'} Calculating capped forecast for EDOLLAR carry\n",
      "2023-08-06 18:13:12 DEBUG base_system {'stage': 'rules', 'instrument_code': 'EDOLLAR'} Calculating raw forecast EDOLLAR for carry\n",
      "2023-08-06 18:13:13 DEBUG base_system {'stage': 'rawdata', 'instrument_code': 'EDOLLAR'} Calculating daily volatility for EDOLLAR\n",
      "2023-08-06 18:13:13 DEBUG base_system {'stage': 'rawdata', 'instrument_code': 'EDOLLAR'} Calculating daily prices for EDOLLAR\n",
      "2023-08-06 18:13:13 DEBUG base_system {'stage': 'forecastScaleCap', 'instrument_code': 'EUROSTX'} Calculating capped forecast for EUROSTX carry\n",
      "2023-08-06 18:13:13 DEBUG base_system {'stage': 'rules', 'instrument_code': 'EUROSTX'} Calculating raw forecast EUROSTX for carry\n",
      "2023-08-06 18:13:13 DEBUG base_system {'stage': 'rawdata', 'instrument_code': 'EUROSTX'} Calculating daily volatility for EUROSTX\n",
      "2023-08-06 18:13:13 DEBUG base_system {'stage': 'rawdata', 'instrument_code': 'EUROSTX'} Calculating daily prices for EUROSTX\n",
      "2023-08-06 18:13:13 DEBUG base_system {'stage': 'forecastScaleCap', 'instrument_code': 'MXP'} Calculating capped forecast for MXP carry\n",
      "2023-08-06 18:13:13 DEBUG base_system {'stage': 'rules', 'instrument_code': 'MXP'} Calculating raw forecast MXP for carry\n",
      "2023-08-06 18:13:13 DEBUG base_system {'stage': 'rawdata', 'instrument_code': 'MXP'} Calculating daily volatility for MXP\n",
      "2023-08-06 18:13:13 DEBUG base_system {'stage': 'rawdata', 'instrument_code': 'MXP'} Calculating daily prices for MXP\n",
      "2023-08-06 18:13:13 DEBUG base_system {'stage': 'forecastScaleCap', 'instrument_code': 'US10'} Calculating capped forecast for US10 carry\n",
      "2023-08-06 18:13:13 DEBUG base_system {'stage': 'rules', 'instrument_code': 'US10'} Calculating raw forecast US10 for carry\n",
      "2023-08-06 18:13:13 DEBUG base_system {'stage': 'rawdata', 'instrument_code': 'US10'} Calculating daily volatility for US10\n",
      "2023-08-06 18:13:13 DEBUG base_system {'stage': 'rawdata', 'instrument_code': 'US10'} Calculating daily prices for US10\n",
      "2023-08-06 18:13:13 DEBUG base_system {'stage': 'forecastScaleCap', 'instrument_code': 'V2X'} Calculating capped forecast for V2X carry\n",
      "2023-08-06 18:13:13 DEBUG base_system {'stage': 'rules', 'instrument_code': 'V2X'} Calculating raw forecast V2X for carry\n",
      "2023-08-06 18:13:13 DEBUG base_system {'stage': 'rawdata', 'instrument_code': 'V2X'} Calculating daily volatility for V2X\n",
      "2023-08-06 18:13:13 DEBUG base_system {'stage': 'rawdata', 'instrument_code': 'V2X'} Calculating daily prices for V2X\n",
      "2023-08-06 18:13:14 DEBUG base_system {'stage': 'forecastScaleCap', 'instrument_code': 'EDOLLAR'} Calculating capped forecast for EDOLLAR ewmac16_64\n",
      "2023-08-06 18:13:14 DEBUG base_system {'stage': 'rules', 'instrument_code': 'EDOLLAR'} Calculating raw forecast EDOLLAR for ewmac16_64\n",
      "2023-08-06 18:13:14 DEBUG base_system {'stage': 'rawdata', 'instrument_code': 'EDOLLAR'} Calculating daily prices for EDOLLAR\n",
      "2023-08-06 18:13:14 DEBUG base_system {'stage': 'forecastScaleCap', 'instrument_code': 'EUROSTX'} Calculating capped forecast for EUROSTX ewmac16_64\n",
      "2023-08-06 18:13:14 DEBUG base_system {'stage': 'rules', 'instrument_code': 'EUROSTX'} Calculating raw forecast EUROSTX for ewmac16_64\n",
      "2023-08-06 18:13:14 DEBUG base_system {'stage': 'rawdata', 'instrument_code': 'EUROSTX'} Calculating daily prices for EUROSTX\n",
      "2023-08-06 18:13:14 DEBUG base_system {'stage': 'forecastScaleCap', 'instrument_code': 'MXP'} Calculating capped forecast for MXP ewmac16_64\n",
      "2023-08-06 18:13:14 DEBUG base_system {'stage': 'rules', 'instrument_code': 'MXP'} Calculating raw forecast MXP for ewmac16_64\n",
      "2023-08-06 18:13:14 DEBUG base_system {'stage': 'rawdata', 'instrument_code': 'MXP'} Calculating daily prices for MXP\n",
      "2023-08-06 18:13:14 DEBUG base_system {'stage': 'forecastScaleCap', 'instrument_code': 'US10'} Calculating capped forecast for US10 ewmac16_64\n",
      "2023-08-06 18:13:14 DEBUG base_system {'stage': 'rules', 'instrument_code': 'US10'} Calculating raw forecast US10 for ewmac16_64\n",
      "2023-08-06 18:13:14 DEBUG base_system {'stage': 'rawdata', 'instrument_code': 'US10'} Calculating daily prices for US10\n",
      "2023-08-06 18:13:14 DEBUG base_system {'stage': 'forecastScaleCap', 'instrument_code': 'V2X'} Calculating capped forecast for V2X ewmac16_64\n",
      "2023-08-06 18:13:14 DEBUG base_system {'stage': 'rules', 'instrument_code': 'V2X'} Calculating raw forecast V2X for ewmac16_64\n",
      "2023-08-06 18:13:14 DEBUG base_system {'stage': 'rawdata', 'instrument_code': 'V2X'} Calculating daily prices for V2X\n",
      "2023-08-06 18:13:14 DEBUG base_system {'stage': 'forecastScaleCap', 'instrument_code': 'EDOLLAR'} Calculating capped forecast for EDOLLAR ewmac32_128\n",
      "2023-08-06 18:13:14 DEBUG base_system {'stage': 'rules', 'instrument_code': 'EDOLLAR'} Calculating raw forecast EDOLLAR for ewmac32_128\n",
      "2023-08-06 18:13:14 DEBUG base_system {'stage': 'rawdata', 'instrument_code': 'EDOLLAR'} Calculating daily prices for EDOLLAR\n",
      "2023-08-06 18:13:14 DEBUG base_system {'stage': 'forecastScaleCap', 'instrument_code': 'EUROSTX'} Calculating capped forecast for EUROSTX ewmac32_128\n",
      "2023-08-06 18:13:14 DEBUG base_system {'stage': 'rules', 'instrument_code': 'EUROSTX'} Calculating raw forecast EUROSTX for ewmac32_128\n",
      "2023-08-06 18:13:14 DEBUG base_system {'stage': 'rawdata', 'instrument_code': 'EUROSTX'} Calculating daily prices for EUROSTX\n",
      "2023-08-06 18:13:14 DEBUG base_system {'stage': 'forecastScaleCap', 'instrument_code': 'MXP'} Calculating capped forecast for MXP ewmac32_128\n",
      "2023-08-06 18:13:14 DEBUG base_system {'stage': 'rules', 'instrument_code': 'MXP'} Calculating raw forecast MXP for ewmac32_128\n",
      "2023-08-06 18:13:14 DEBUG base_system {'stage': 'rawdata', 'instrument_code': 'MXP'} Calculating daily prices for MXP\n",
      "2023-08-06 18:13:14 DEBUG base_system {'stage': 'forecastScaleCap', 'instrument_code': 'US10'} Calculating capped forecast for US10 ewmac32_128\n",
      "2023-08-06 18:13:14 DEBUG base_system {'stage': 'rules', 'instrument_code': 'US10'} Calculating raw forecast US10 for ewmac32_128\n",
      "2023-08-06 18:13:14 DEBUG base_system {'stage': 'rawdata', 'instrument_code': 'US10'} Calculating daily prices for US10\n",
      "2023-08-06 18:13:14 DEBUG base_system {'stage': 'forecastScaleCap', 'instrument_code': 'V2X'} Calculating capped forecast for V2X ewmac32_128\n",
      "2023-08-06 18:13:14 DEBUG base_system {'stage': 'rules', 'instrument_code': 'V2X'} Calculating raw forecast V2X for ewmac32_128\n",
      "2023-08-06 18:13:14 DEBUG base_system {'stage': 'rawdata', 'instrument_code': 'V2X'} Calculating daily prices for V2X\n",
      "2023-08-06 18:13:15 DEBUG base_system {'stage': 'forecastScaleCap', 'instrument_code': 'EDOLLAR'} Calculating capped forecast for EDOLLAR ewmac64_256\n",
      "2023-08-06 18:13:15 DEBUG base_system {'stage': 'rules', 'instrument_code': 'EDOLLAR'} Calculating raw forecast EDOLLAR for ewmac64_256\n",
      "2023-08-06 18:13:15 DEBUG base_system {'stage': 'rawdata', 'instrument_code': 'EDOLLAR'} Calculating daily prices for EDOLLAR\n",
      "2023-08-06 18:13:15 DEBUG base_system {'stage': 'forecastScaleCap', 'instrument_code': 'EUROSTX'} Calculating capped forecast for EUROSTX ewmac64_256\n",
      "2023-08-06 18:13:15 DEBUG base_system {'stage': 'rules', 'instrument_code': 'EUROSTX'} Calculating raw forecast EUROSTX for ewmac64_256\n",
      "2023-08-06 18:13:15 DEBUG base_system {'stage': 'rawdata', 'instrument_code': 'EUROSTX'} Calculating daily prices for EUROSTX\n",
      "2023-08-06 18:13:15 DEBUG base_system {'stage': 'forecastScaleCap', 'instrument_code': 'MXP'} Calculating capped forecast for MXP ewmac64_256\n",
      "2023-08-06 18:13:15 DEBUG base_system {'stage': 'rules', 'instrument_code': 'MXP'} Calculating raw forecast MXP for ewmac64_256\n",
      "2023-08-06 18:13:15 DEBUG base_system {'stage': 'rawdata', 'instrument_code': 'MXP'} Calculating daily prices for MXP\n",
      "2023-08-06 18:13:15 DEBUG base_system {'stage': 'forecastScaleCap', 'instrument_code': 'US10'} Calculating capped forecast for US10 ewmac64_256\n",
      "2023-08-06 18:13:15 DEBUG base_system {'stage': 'rules', 'instrument_code': 'US10'} Calculating raw forecast US10 for ewmac64_256\n",
      "2023-08-06 18:13:15 DEBUG base_system {'stage': 'rawdata', 'instrument_code': 'US10'} Calculating daily prices for US10\n",
      "2023-08-06 18:13:15 DEBUG base_system {'stage': 'forecastScaleCap', 'instrument_code': 'V2X'} Calculating capped forecast for V2X ewmac64_256\n",
      "2023-08-06 18:13:15 DEBUG base_system {'stage': 'rules', 'instrument_code': 'V2X'} Calculating raw forecast V2X for ewmac64_256\n",
      "2023-08-06 18:13:15 DEBUG base_system {'stage': 'rawdata', 'instrument_code': 'V2X'} Calculating daily prices for V2X\n",
      "2023-08-06 18:13:15 DEBUG base_system {'stage': 'combForecast', 'instrument_code': 'CORN'} Only this set of rules ['carry', 'ewmac16_64', 'ewmac32_128', 'ewmac64_256'] is cheap enough to trade for CORN\n",
      "2023-08-06 18:13:15 DEBUG base_system {'stage': 'combForecast', 'instrument_code': 'CORN'} Non-nested dict of forecast weights for CORN {'ewmac16_64': 0.21, 'ewmac32_128': 0.08, 'ewmac64_256': 0.21, 'carry': 0.5}: weights the same for all instruments\n",
      "2023-08-06 18:13:15 DEBUG base_system {'stage': 'combForecast', 'instrument_code': 'CORN'} Using fixed FDM multiplier of 1.310 for CORN\n",
      "2023-08-06 18:13:15 DEBUG base_system {'stage': 'combForecast', 'instrument_code': 'CORN'} No mapping applied for CORN\n",
      "2023-08-06 18:13:15 DEBUG base_system {'stage': 'positionSize', 'instrument_code': 'EDOLLAR'} Calculating subsystem position for EDOLLAR\n",
      "2023-08-06 18:13:15 DEBUG base_system {'stage': 'positionSize', 'instrument_code': 'EDOLLAR'} Calculating volatility scalar for EDOLLAR\n",
      "2023-08-06 18:13:15 DEBUG base_system {'stage': 'positionSize', 'instrument_code': 'EDOLLAR'} Calculating instrument value vol for EDOLLAR\n",
      "2023-08-06 18:13:15 DEBUG base_system {'stage': 'positionSize', 'instrument_code': 'EDOLLAR'} Calculating instrument currency vol for EDOLLAR\n",
      "2023-08-06 18:13:15 DEBUG base_system {'stage': 'combForecast', 'instrument_code': 'EDOLLAR'} Calculating combined forecast for EDOLLAR\n",
      "2023-08-06 18:13:15 DEBUG base_system {'stage': 'combForecast', 'instrument_code': 'EDOLLAR'} Calculating forecast weights for EDOLLAR\n",
      "2023-08-06 18:13:15 DEBUG base_system {'stage': 'combForecast', 'instrument_code': 'EDOLLAR'} Only this set of rules ['carry', 'ewmac16_64', 'ewmac32_128', 'ewmac64_256'] is cheap enough to trade for EDOLLAR\n",
      "2023-08-06 18:13:15 DEBUG base_system {'stage': 'combForecast', 'instrument_code': 'EDOLLAR'} Non-nested dict of forecast weights for EDOLLAR {'ewmac16_64': 0.21, 'ewmac32_128': 0.08, 'ewmac64_256': 0.21, 'carry': 0.5}: weights the same for all instruments\n",
      "2023-08-06 18:13:15 DEBUG base_system {'stage': 'combForecast', 'instrument_code': 'EDOLLAR'} Using fixed FDM multiplier of 1.310 for EDOLLAR\n",
      "2023-08-06 18:13:15 DEBUG base_system {'stage': 'combForecast', 'instrument_code': 'EDOLLAR'} No mapping applied for EDOLLAR\n",
      "2023-08-06 18:13:15 DEBUG base_system {'stage': 'positionSize', 'instrument_code': 'EUROSTX'} Calculating subsystem position for EUROSTX\n",
      "2023-08-06 18:13:15 DEBUG base_system {'stage': 'positionSize', 'instrument_code': 'EUROSTX'} Calculating volatility scalar for EUROSTX\n",
      "2023-08-06 18:13:15 DEBUG base_system {'stage': 'positionSize', 'instrument_code': 'EUROSTX'} Calculating instrument value vol for EUROSTX\n",
      "2023-08-06 18:13:15 DEBUG base_system {'stage': 'positionSize', 'instrument_code': 'EUROSTX'} Calculating instrument currency vol for EUROSTX\n",
      "2023-08-06 18:13:15 DEBUG base_system {'stage': 'combForecast', 'instrument_code': 'EUROSTX'} Calculating combined forecast for EUROSTX\n",
      "2023-08-06 18:13:15 DEBUG base_system {'stage': 'combForecast', 'instrument_code': 'EUROSTX'} Calculating forecast weights for EUROSTX\n",
      "2023-08-06 18:13:15 DEBUG base_system {'stage': 'combForecast', 'instrument_code': 'EUROSTX'} Only this set of rules ['carry', 'ewmac16_64', 'ewmac32_128', 'ewmac64_256'] is cheap enough to trade for EUROSTX\n",
      "2023-08-06 18:13:15 DEBUG base_system {'stage': 'combForecast', 'instrument_code': 'EUROSTX'} Non-nested dict of forecast weights for EUROSTX {'ewmac16_64': 0.21, 'ewmac32_128': 0.08, 'ewmac64_256': 0.21, 'carry': 0.5}: weights the same for all instruments\n",
      "2023-08-06 18:13:15 DEBUG base_system {'stage': 'combForecast', 'instrument_code': 'EUROSTX'} Using fixed FDM multiplier of 1.310 for EUROSTX\n",
      "2023-08-06 18:13:15 DEBUG base_system {'stage': 'combForecast', 'instrument_code': 'EUROSTX'} No mapping applied for EUROSTX\n",
      "2023-08-06 18:13:15 DEBUG base_system {'stage': 'positionSize', 'instrument_code': 'MXP'} Calculating subsystem position for MXP\n",
      "2023-08-06 18:13:15 DEBUG base_system {'stage': 'positionSize', 'instrument_code': 'MXP'} Calculating volatility scalar for MXP\n",
      "2023-08-06 18:13:15 DEBUG base_system {'stage': 'positionSize', 'instrument_code': 'MXP'} Calculating instrument value vol for MXP\n",
      "2023-08-06 18:13:15 DEBUG base_system {'stage': 'positionSize', 'instrument_code': 'MXP'} Calculating instrument currency vol for MXP\n",
      "2023-08-06 18:13:15 DEBUG base_system {'stage': 'combForecast', 'instrument_code': 'MXP'} Calculating combined forecast for MXP\n",
      "2023-08-06 18:13:15 DEBUG base_system {'stage': 'combForecast', 'instrument_code': 'MXP'} Calculating forecast weights for MXP\n",
      "2023-08-06 18:13:16 DEBUG base_system {'stage': 'combForecast', 'instrument_code': 'MXP'} Only this set of rules ['carry', 'ewmac16_64', 'ewmac32_128', 'ewmac64_256'] is cheap enough to trade for MXP\n",
      "2023-08-06 18:13:16 DEBUG base_system {'stage': 'combForecast', 'instrument_code': 'MXP'} Non-nested dict of forecast weights for MXP {'ewmac16_64': 0.21, 'ewmac32_128': 0.08, 'ewmac64_256': 0.21, 'carry': 0.5}: weights the same for all instruments\n",
      "2023-08-06 18:13:16 DEBUG base_system {'stage': 'combForecast', 'instrument_code': 'MXP'} Using fixed FDM multiplier of 1.310 for MXP\n",
      "2023-08-06 18:13:16 DEBUG base_system {'stage': 'combForecast', 'instrument_code': 'MXP'} No mapping applied for MXP\n",
      "2023-08-06 18:13:16 DEBUG base_system {'stage': 'positionSize', 'instrument_code': 'US10'} Calculating subsystem position for US10\n",
      "2023-08-06 18:13:16 DEBUG base_system {'stage': 'positionSize', 'instrument_code': 'US10'} Calculating volatility scalar for US10\n",
      "2023-08-06 18:13:16 DEBUG base_system {'stage': 'positionSize', 'instrument_code': 'US10'} Calculating instrument value vol for US10\n",
      "2023-08-06 18:13:16 DEBUG base_system {'stage': 'positionSize', 'instrument_code': 'US10'} Calculating instrument currency vol for US10\n",
      "2023-08-06 18:13:16 DEBUG base_system {'stage': 'combForecast', 'instrument_code': 'US10'} Calculating combined forecast for US10\n",
      "2023-08-06 18:13:16 DEBUG base_system {'stage': 'combForecast', 'instrument_code': 'US10'} Calculating forecast weights for US10\n",
      "2023-08-06 18:13:16 DEBUG base_system {'stage': 'combForecast', 'instrument_code': 'US10'} Only this set of rules ['carry', 'ewmac16_64', 'ewmac32_128', 'ewmac64_256'] is cheap enough to trade for US10\n",
      "2023-08-06 18:13:16 DEBUG base_system {'stage': 'combForecast', 'instrument_code': 'US10'} Non-nested dict of forecast weights for US10 {'ewmac16_64': 0.21, 'ewmac32_128': 0.08, 'ewmac64_256': 0.21, 'carry': 0.5}: weights the same for all instruments\n",
      "2023-08-06 18:13:16 DEBUG base_system {'stage': 'combForecast', 'instrument_code': 'US10'} Using fixed FDM multiplier of 1.310 for US10\n",
      "2023-08-06 18:13:16 DEBUG base_system {'stage': 'combForecast', 'instrument_code': 'US10'} No mapping applied for US10\n",
      "2023-08-06 18:13:16 DEBUG base_system {'stage': 'positionSize', 'instrument_code': 'V2X'} Calculating subsystem position for V2X\n",
      "2023-08-06 18:13:16 DEBUG base_system {'stage': 'positionSize', 'instrument_code': 'V2X'} Calculating volatility scalar for V2X\n",
      "2023-08-06 18:13:16 DEBUG base_system {'stage': 'positionSize', 'instrument_code': 'V2X'} Calculating instrument value vol for V2X\n",
      "2023-08-06 18:13:16 DEBUG base_system {'stage': 'positionSize', 'instrument_code': 'V2X'} Calculating instrument currency vol for V2X\n",
      "2023-08-06 18:13:16 DEBUG base_system {'stage': 'combForecast', 'instrument_code': 'V2X'} Calculating combined forecast for V2X\n",
      "2023-08-06 18:13:16 DEBUG base_system {'stage': 'combForecast', 'instrument_code': 'V2X'} Calculating forecast weights for V2X\n",
      "2023-08-06 18:13:16 DEBUG base_system {'stage': 'combForecast', 'instrument_code': 'V2X'} Only this set of rules ['carry', 'ewmac16_64', 'ewmac32_128', 'ewmac64_256'] is cheap enough to trade for V2X\n",
      "2023-08-06 18:13:16 DEBUG base_system {'stage': 'combForecast', 'instrument_code': 'V2X'} Non-nested dict of forecast weights for V2X {'ewmac16_64': 0.21, 'ewmac32_128': 0.08, 'ewmac64_256': 0.21, 'carry': 0.5}: weights the same for all instruments\n",
      "2023-08-06 18:13:16 DEBUG base_system {'stage': 'combForecast', 'instrument_code': 'V2X'} Using fixed FDM multiplier of 1.310 for V2X\n",
      "2023-08-06 18:13:16 DEBUG base_system {'stage': 'combForecast', 'instrument_code': 'V2X'} No mapping applied for V2X\n",
      "2023-08-06 18:13:16 DEBUG base_system {'stage': 'portfolio', 'instrument_code': 'EDOLLAR'} Following instruments will have zero weight in optimisation of instrument weights as they have no positions (possibly too expensive?) []\n",
      "2023-08-06 18:13:16 INFO base_system {'stage': 'portfolio', 'instrument_code': 'EDOLLAR'} Using fixed diversification multiplier 1.890000\n",
      "2023-08-06 18:13:16 DEBUG base_system {'stage': 'portfolio', 'instrument_code': 'EDOLLAR'} No risk overlay in config: won't apply risk scaling\n"
     ]
    },
    {
     "data": {
      "text/plain": [
       "index\n",
       "1984-03-23         NaN\n",
       "1984-03-26         NaN\n",
       "1984-03-27         NaN\n",
       "1984-03-28         NaN\n",
       "1984-03-29         NaN\n",
       "                ...   \n",
       "2022-12-26   -0.740483\n",
       "2022-12-27   -0.854160\n",
       "2022-12-28   -1.006597\n",
       "2022-12-29   -1.129909\n",
       "2022-12-30   -1.274478\n",
       "Freq: B, Length: 10116, dtype: float64"
      ]
     },
     "execution_count": 13,
     "metadata": {},
     "output_type": "execute_result"
    }
   ],
   "source": [
    "from systems.provided.futures_chapter15.basesystem import futures_system\n",
    "system=futures_system()\n",
    "system.portfolio.get_notional_position(\"EDOLLAR\")"
   ]
  },
  {
   "cell_type": "code",
   "execution_count": 16,
   "metadata": {},
   "outputs": [
    {
     "data": {
      "text/plain": [
       "{'ewmac2_8': TradingRule; function: <function ewmac at 0x7f8959961c10>, data: rawdata.get_daily_prices (args: {}), rawdata.daily_returns_volatility (args: {}) and other_args: Lfast, Lslow,\n",
       " 'ewmac4_16': TradingRule; function: <function ewmac at 0x7f8959961c10>, data: rawdata.get_daily_prices (args: {}), rawdata.daily_returns_volatility (args: {}) and other_args: Lfast, Lslow,\n",
       " 'ewmac8_32': TradingRule; function: <function ewmac at 0x7f8959961c10>, data: rawdata.get_daily_prices (args: {}), rawdata.daily_returns_volatility (args: {}) and other_args: Lfast, Lslow,\n",
       " 'ewmac16_64': TradingRule; function: <function ewmac at 0x7f8959961c10>, data: rawdata.get_daily_prices (args: {}), rawdata.daily_returns_volatility (args: {}) and other_args: Lfast, Lslow,\n",
       " 'ewmac32_128': TradingRule; function: <function ewmac at 0x7f8959961c10>, data: rawdata.get_daily_prices (args: {}), rawdata.daily_returns_volatility (args: {}) and other_args: Lfast, Lslow,\n",
       " 'ewmac64_256': TradingRule; function: <function ewmac at 0x7f8959961c10>, data: rawdata.get_daily_prices (args: {}), rawdata.daily_returns_volatility (args: {}) and other_args: Lfast, Lslow,\n",
       " 'carry': TradingRule; function: <function carry at 0x7f89599610d0>, data: rawdata.raw_carry (args: {}) and other_args: smooth_days,\n",
       " 'sma7_14': TradingRule; function: <function sma at 0x7f89599615e0>, data: rawdata.get_daily_prices (args: {}), rawdata.daily_returns_volatility (args: {}) and other_args: Lfast, Lslow}"
      ]
     },
     "execution_count": 16,
     "metadata": {},
     "output_type": "execute_result"
    }
   ],
   "source": [
    "system.rules.trading_rules()"
   ]
  },
  {
   "cell_type": "code",
   "execution_count": 14,
   "metadata": {},
   "outputs": [
    {
     "name": "stdout",
     "output_type": "stream",
     "text": [
      "2023-08-06 18:13:34 DEBUG base_system {'stage': 'config'} Adding config defaults\n",
      "2023-08-06 18:13:34 DEBUG base_system Following instruments are 'duplicate_markets' ['Another_thing', 'bad_thing'] \n",
      "2023-08-06 18:13:34 DEBUG base_system Following instruments are marked as 'ignore_instruments': not included: ['EXAMPLE']\n",
      "2023-08-06 18:13:34 DEBUG base_system Following instruments removed entirely from sim: ['Another_thing', 'EXAMPLE', 'bad_thing']\n",
      "2023-08-06 18:13:34 DEBUG base_system {'stage': 'rules', 'instrument_code': 'EDOLLAR'} Calculating raw forecast EDOLLAR for ewmac64_256\n",
      "2023-08-06 18:13:34 DEBUG base_system {'stage': 'rawdata', 'instrument_code': 'EDOLLAR'} Calculating daily prices for EDOLLAR\n"
     ]
    },
    {
     "name": "stdout",
     "output_type": "stream",
     "text": [
      "2023-08-06 18:13:34 DEBUG base_system {'stage': 'rawdata', 'instrument_code': 'EDOLLAR'} Calculating daily volatility for EDOLLAR\n",
      "2023-08-06 18:13:34 DEBUG base_system {'stage': 'rawdata', 'instrument_code': 'EDOLLAR'} Calculating daily prices for EDOLLAR\n"
     ]
    },
    {
     "data": {
      "text/plain": [
       "index\n",
       "1984-03-23         NaN\n",
       "1984-03-26         NaN\n",
       "1984-03-27         NaN\n",
       "1984-03-28         NaN\n",
       "1984-03-29         NaN\n",
       "                ...   \n",
       "2022-12-26   -6.049228\n",
       "2022-12-27   -6.031015\n",
       "2022-12-28   -6.087787\n",
       "2022-12-29   -6.171581\n",
       "2022-12-30   -6.256119\n",
       "Freq: B, Name: price, Length: 10116, dtype: float64"
      ]
     },
     "execution_count": 14,
     "metadata": {},
     "output_type": "execute_result"
    }
   ],
   "source": [
    "from systems.provided.futures_chapter15.basesystem import futures_system\n",
    "system=futures_system()\n",
    "system.rules.get_raw_forecast(\"EDOLLAR\", \"ewmac64_256\")"
   ]
  },
  {
   "cell_type": "code",
   "execution_count": 1,
   "metadata": {},
   "outputs": [
    {
     "name": "stdout",
     "output_type": "stream",
     "text": [
      "Configuring sim logging\n",
      "2023-08-07 14:36:36 DEBUG base_system {'stage': 'config'} Adding config defaults\n"
     ]
    }
   ],
   "source": [
    "from sysdata.config.configdata import Config\n",
    "from systems.provided.futures_chapter15.basesystem import futures_system\n",
    "\n",
    "my_config=Config(\"private.private_config.yaml\")\n",
    "system=futures_system(config=my_config)"
   ]
  },
  {
   "cell_type": "code",
   "execution_count": 2,
   "metadata": {},
   "outputs": [
    {
     "name": "stdout",
     "output_type": "stream",
     "text": [
      "2023-08-07 14:36:39 DEBUG base_system Following instruments are 'duplicate_markets' ['Another_thing', 'bad_thing'] \n",
      "2023-08-07 14:36:39 DEBUG base_system Following instruments are marked as 'ignore_instruments': not included: ['EXAMPLE']\n",
      "2023-08-07 14:36:39 DEBUG base_system Following instruments removed entirely from sim: ['Another_thing', 'EXAMPLE', 'bad_thing']\n",
      "2023-08-07 14:36:39 DEBUG base_system {'stage': 'rules', 'instrument_code': 'EDOLLAR'} Calculating raw forecast EDOLLAR for sma7_14\n",
      "2023-08-07 14:36:39 DEBUG base_system {'stage': 'rawdata', 'instrument_code': 'EDOLLAR'} Calculating daily prices for EDOLLAR\n",
      "2023-08-07 14:36:39 DEBUG base_system {'stage': 'rawdata', 'instrument_code': 'EDOLLAR'} Calculating daily volatility for EDOLLAR\n",
      "2023-08-07 14:36:39 DEBUG base_system {'stage': 'rawdata', 'instrument_code': 'EDOLLAR'} Calculating daily prices for EDOLLAR\n",
      "index\n",
      "1984-03-23    10\n",
      "1984-03-26    10\n",
      "1984-03-27    10\n",
      "1984-03-28    10\n",
      "1984-03-29    10\n",
      "              ..\n",
      "2022-12-26    10\n",
      "2022-12-27    10\n",
      "2022-12-28    10\n",
      "2022-12-29    10\n",
      "2022-12-30    10\n",
      "Freq: B, Length: 10116, dtype: int64\n"
     ]
    },
    {
     "data": {
      "text/plain": [
       "index\n",
       "1984-03-23    10\n",
       "1984-03-26    10\n",
       "1984-03-27    10\n",
       "1984-03-28    10\n",
       "1984-03-29    10\n",
       "              ..\n",
       "2022-12-26    10\n",
       "2022-12-27    10\n",
       "2022-12-28    10\n",
       "2022-12-29    10\n",
       "2022-12-30    10\n",
       "Freq: B, Length: 10116, dtype: int64"
      ]
     },
     "execution_count": 2,
     "metadata": {},
     "output_type": "execute_result"
    }
   ],
   "source": [
    "system.rules.get_raw_forecast(\"EDOLLAR\", \"sma7_14\")"
   ]
  },
  {
   "cell_type": "code",
   "execution_count": 3,
   "metadata": {},
   "outputs": [
    {
     "name": "stdout",
     "output_type": "stream",
     "text": [
      "2023-08-07 14:36:45 INFO base_system {'stage': 'accounts'} Calculating pandl for portfolio\n",
      "2023-08-07 14:36:45 DEBUG base_system {'stage': 'positionSize'} Getting vol target\n",
      "2023-08-07 14:36:45 DEBUG base_system {'stage': 'accounts', 'instrument_code': 'CORN'} Calculating pandl for instrument for CORN\n",
      "2023-08-07 14:36:45 DEBUG base_system {'stage': 'portfolio', 'instrument_code': 'CORN'} Calculating notional position for CORN\n",
      "2023-08-07 14:36:45 INFO base_system {'stage': 'portfolio', 'instrument_code': 'CORN'} Calculating instrument weights\n",
      "2023-08-07 14:36:45 DEBUG base_system {'stage': 'portfolio', 'instrument_code': 'CORN'} Calculating raw instrument weights\n",
      "2023-08-07 14:36:45 DEBUG base_system Following instruments are 'duplicate_markets' ['Another_thing', 'bad_thing'] \n",
      "2023-08-07 14:36:45 DEBUG base_system Following instruments are marked as 'ignore_instruments': not included: ['EXAMPLE']\n",
      "2023-08-07 14:36:45 DEBUG base_system Following instruments are marked as 'bad_markets':  ['BAD_EXAMPLE']\n",
      "2023-08-07 14:36:45 DEBUG base_system Following instruments have restricted trading:  ['RESTRICTED_EXAMPLE'] \n",
      "2023-08-07 14:36:45 DEBUG base_system Following instruments marked as not trading []\n",
      "2023-08-07 14:36:45 DEBUG base_system {'stage': 'positionSize', 'instrument_code': 'CORN'} Calculating subsystem position for CORN\n",
      "2023-08-07 14:36:45 DEBUG base_system {'stage': 'positionSize', 'instrument_code': 'CORN'} Calculating volatility scalar for CORN\n",
      "2023-08-07 14:36:45 DEBUG base_system {'stage': 'positionSize', 'instrument_code': 'CORN'} Calculating instrument value vol for CORN\n",
      "2023-08-07 14:36:45 DEBUG base_system {'stage': 'positionSize', 'instrument_code': 'CORN'} Calculating instrument currency vol for CORN\n",
      "2023-08-07 14:36:45 DEBUG base_system {'stage': 'rawdata', 'instrument_code': 'CORN'} Calculating daily volatility for CORN\n",
      "2023-08-07 14:36:45 DEBUG base_system {'stage': 'rawdata', 'instrument_code': 'CORN'} Calculating daily prices for CORN\n",
      "2023-08-07 14:36:45 DEBUG base_system {'stage': 'combForecast', 'instrument_code': 'CORN'} Calculating combined forecast for CORN\n",
      "2023-08-07 14:36:45 DEBUG base_system {'stage': 'forecastScaleCap', 'instrument_code': 'CORN'} Calculating capped forecast for CORN carry\n",
      "2023-08-07 14:36:45 DEBUG base_system {'stage': 'rules', 'instrument_code': 'CORN'} Calculating raw forecast CORN for carry\n",
      "2023-08-07 14:36:45 DEBUG base_system {'stage': 'forecastScaleCap', 'instrument_code': 'CORN'} Calculating capped forecast for CORN ewmac16_64\n",
      "2023-08-07 14:36:45 DEBUG base_system {'stage': 'rules', 'instrument_code': 'CORN'} Calculating raw forecast CORN for ewmac16_64\n",
      "2023-08-07 14:36:45 DEBUG base_system {'stage': 'rawdata', 'instrument_code': 'CORN'} Calculating daily prices for CORN\n",
      "index\n",
      "1972-10-18         NaN\n",
      "1972-10-19         NaN\n",
      "1972-10-20         NaN\n",
      "1972-10-23         NaN\n",
      "1972-10-24         NaN\n",
      "                ...   \n",
      "2022-12-26   -2.161110\n",
      "2022-12-27   -1.934387\n",
      "2022-12-28   -1.619946\n",
      "2022-12-29   -1.379155\n",
      "2022-12-30   -1.212272\n",
      "Freq: B, Name: price, Length: 13098, dtype: float64\n",
      "2023-08-07 14:36:45 DEBUG base_system {'stage': 'forecastScaleCap', 'instrument_code': 'CORN'} Calculating capped forecast for CORN ewmac32_128\n",
      "2023-08-07 14:36:45 DEBUG base_system {'stage': 'rules', 'instrument_code': 'CORN'} Calculating raw forecast CORN for ewmac32_128\n",
      "2023-08-07 14:36:45 DEBUG base_system {'stage': 'rawdata', 'instrument_code': 'CORN'} Calculating daily prices for CORN\n",
      "index\n",
      "1972-10-18         NaN\n",
      "1972-10-19         NaN\n",
      "1972-10-20         NaN\n",
      "1972-10-23         NaN\n",
      "1972-10-24         NaN\n",
      "                ...   \n",
      "2022-12-26   -1.121301\n",
      "2022-12-27   -1.075418\n",
      "2022-12-28   -0.971550\n",
      "2022-12-29   -0.894688\n",
      "2022-12-30   -0.841894\n",
      "Freq: B, Name: price, Length: 13098, dtype: float64\n",
      "2023-08-07 14:36:45 DEBUG base_system {'stage': 'forecastScaleCap', 'instrument_code': 'CORN'} Calculating capped forecast for CORN ewmac64_256\n",
      "2023-08-07 14:36:45 DEBUG base_system {'stage': 'rules', 'instrument_code': 'CORN'} Calculating raw forecast CORN for ewmac64_256\n",
      "2023-08-07 14:36:45 DEBUG base_system {'stage': 'rawdata', 'instrument_code': 'CORN'} Calculating daily prices for CORN\n",
      "index\n",
      "1972-10-18         NaN\n",
      "1972-10-19         NaN\n",
      "1972-10-20         NaN\n",
      "1972-10-23         NaN\n",
      "1972-10-24         NaN\n",
      "                ...   \n",
      "2022-12-26    4.220335\n",
      "2022-12-27    4.172159\n",
      "2022-12-28    4.107871\n",
      "2022-12-29    4.169576\n",
      "2022-12-30    4.183487\n",
      "Freq: B, Name: price, Length: 13098, dtype: float64\n",
      "2023-08-07 14:36:46 DEBUG base_system {'stage': 'combForecast', 'instrument_code': 'CORN'} Calculating forecast weights for CORN\n",
      "2023-08-07 14:36:46 DEBUG base_system {'stage': 'forecastScaleCap', 'instrument_code': 'EDOLLAR'} Calculating capped forecast for EDOLLAR carry\n",
      "2023-08-07 14:36:46 DEBUG base_system {'stage': 'rules', 'instrument_code': 'EDOLLAR'} Calculating raw forecast EDOLLAR for carry\n",
      "2023-08-07 14:36:46 DEBUG base_system {'stage': 'forecastScaleCap', 'instrument_code': 'EUROSTX'} Calculating capped forecast for EUROSTX carry\n",
      "2023-08-07 14:36:46 DEBUG base_system {'stage': 'rules', 'instrument_code': 'EUROSTX'} Calculating raw forecast EUROSTX for carry\n",
      "2023-08-07 14:36:46 DEBUG base_system {'stage': 'rawdata', 'instrument_code': 'EUROSTX'} Calculating daily volatility for EUROSTX\n",
      "2023-08-07 14:36:46 DEBUG base_system {'stage': 'rawdata', 'instrument_code': 'EUROSTX'} Calculating daily prices for EUROSTX\n",
      "2023-08-07 14:36:46 DEBUG base_system {'stage': 'forecastScaleCap', 'instrument_code': 'MXP'} Calculating capped forecast for MXP carry\n",
      "2023-08-07 14:36:46 DEBUG base_system {'stage': 'rules', 'instrument_code': 'MXP'} Calculating raw forecast MXP for carry\n",
      "2023-08-07 14:36:46 DEBUG base_system {'stage': 'rawdata', 'instrument_code': 'MXP'} Calculating daily volatility for MXP\n",
      "2023-08-07 14:36:46 DEBUG base_system {'stage': 'rawdata', 'instrument_code': 'MXP'} Calculating daily prices for MXP\n",
      "2023-08-07 14:36:46 DEBUG base_system {'stage': 'forecastScaleCap', 'instrument_code': 'US10'} Calculating capped forecast for US10 carry\n",
      "2023-08-07 14:36:46 DEBUG base_system {'stage': 'rules', 'instrument_code': 'US10'} Calculating raw forecast US10 for carry\n",
      "2023-08-07 14:36:46 DEBUG base_system {'stage': 'rawdata', 'instrument_code': 'US10'} Calculating daily volatility for US10\n",
      "2023-08-07 14:36:46 DEBUG base_system {'stage': 'rawdata', 'instrument_code': 'US10'} Calculating daily prices for US10\n",
      "2023-08-07 14:36:46 DEBUG base_system {'stage': 'forecastScaleCap', 'instrument_code': 'V2X'} Calculating capped forecast for V2X carry\n",
      "2023-08-07 14:36:46 DEBUG base_system {'stage': 'rules', 'instrument_code': 'V2X'} Calculating raw forecast V2X for carry\n",
      "2023-08-07 14:36:47 DEBUG base_system {'stage': 'rawdata', 'instrument_code': 'V2X'} Calculating daily volatility for V2X\n",
      "2023-08-07 14:36:47 DEBUG base_system {'stage': 'rawdata', 'instrument_code': 'V2X'} Calculating daily prices for V2X\n",
      "2023-08-07 14:36:47 DEBUG base_system {'stage': 'forecastScaleCap', 'instrument_code': 'EDOLLAR'} Calculating capped forecast for EDOLLAR ewmac16_64\n",
      "2023-08-07 14:36:47 DEBUG base_system {'stage': 'rules', 'instrument_code': 'EDOLLAR'} Calculating raw forecast EDOLLAR for ewmac16_64\n",
      "2023-08-07 14:36:47 DEBUG base_system {'stage': 'rawdata', 'instrument_code': 'EDOLLAR'} Calculating daily prices for EDOLLAR\n",
      "index\n",
      "1984-03-23         NaN\n",
      "1984-03-26         NaN\n",
      "1984-03-27         NaN\n",
      "1984-03-28         NaN\n",
      "1984-03-29         NaN\n",
      "                ...   \n",
      "2022-12-26    1.424093\n",
      "2022-12-27    1.108918\n",
      "2022-12-28    0.757258\n",
      "2022-12-29    0.518131\n",
      "2022-12-30    0.229657\n",
      "Freq: B, Name: price, Length: 10116, dtype: float64\n",
      "2023-08-07 14:36:47 DEBUG base_system {'stage': 'forecastScaleCap', 'instrument_code': 'EUROSTX'} Calculating capped forecast for EUROSTX ewmac16_64\n",
      "2023-08-07 14:36:47 DEBUG base_system {'stage': 'rules', 'instrument_code': 'EUROSTX'} Calculating raw forecast EUROSTX for ewmac16_64\n",
      "2023-08-07 14:36:47 DEBUG base_system {'stage': 'rawdata', 'instrument_code': 'EUROSTX'} Calculating daily prices for EUROSTX\n",
      "index\n",
      "2014-03-13         NaN\n",
      "2014-03-14         NaN\n",
      "2014-03-17         NaN\n",
      "2014-03-18         NaN\n",
      "2014-03-19         NaN\n",
      "                ...   \n",
      "2022-12-26    2.316533\n",
      "2022-12-27    2.158053\n",
      "2022-12-28    1.992874\n",
      "2022-12-29    1.911174\n",
      "2022-12-30    1.632719\n",
      "Freq: B, Name: price, Length: 2297, dtype: float64\n",
      "2023-08-07 14:36:47 DEBUG base_system {'stage': 'forecastScaleCap', 'instrument_code': 'MXP'} Calculating capped forecast for MXP ewmac16_64\n",
      "2023-08-07 14:36:47 DEBUG base_system {'stage': 'rules', 'instrument_code': 'MXP'} Calculating raw forecast MXP for ewmac16_64\n",
      "2023-08-07 14:36:47 DEBUG base_system {'stage': 'rawdata', 'instrument_code': 'MXP'} Calculating daily prices for MXP\n",
      "index\n",
      "1995-09-15         NaN\n",
      "1995-09-18         NaN\n",
      "1995-09-19         NaN\n",
      "1995-09-20         NaN\n",
      "1995-09-21         NaN\n",
      "                ...   \n",
      "2022-12-26    1.329786\n",
      "2022-12-27    1.415436\n",
      "2022-12-28    1.545070\n",
      "2022-12-29    1.689040\n",
      "2022-12-30    1.715227\n",
      "Freq: B, Name: price, Length: 7121, dtype: float64\n",
      "2023-08-07 14:36:47 DEBUG base_system {'stage': 'forecastScaleCap', 'instrument_code': 'US10'} Calculating capped forecast for US10 ewmac16_64\n",
      "2023-08-07 14:36:47 DEBUG base_system {'stage': 'rules', 'instrument_code': 'US10'} Calculating raw forecast US10 for ewmac16_64\n",
      "2023-08-07 14:36:47 DEBUG base_system {'stage': 'rawdata', 'instrument_code': 'US10'} Calculating daily prices for US10\n",
      "index\n",
      "1982-08-30         NaN\n",
      "1982-08-31         NaN\n",
      "1982-09-01         NaN\n",
      "1982-09-02         NaN\n",
      "1982-09-03         NaN\n",
      "                ...   \n",
      "2022-12-22    0.665064\n",
      "2022-12-23    0.515062\n",
      "2022-12-26    0.515045\n",
      "2022-12-27    0.212504\n",
      "2022-12-28   -0.098169\n",
      "Freq: B, Name: price, Length: 10523, dtype: float64\n",
      "2023-08-07 14:36:47 DEBUG base_system {'stage': 'forecastScaleCap', 'instrument_code': 'V2X'} Calculating capped forecast for V2X ewmac16_64\n",
      "2023-08-07 14:36:47 DEBUG base_system {'stage': 'rules', 'instrument_code': 'V2X'} Calculating raw forecast V2X for ewmac16_64\n",
      "2023-08-07 14:36:47 DEBUG base_system {'stage': 'rawdata', 'instrument_code': 'V2X'} Calculating daily prices for V2X\n",
      "index\n",
      "2013-01-02         NaN\n",
      "2013-01-03         NaN\n",
      "2013-01-04         NaN\n",
      "2013-01-07         NaN\n",
      "2013-01-08         NaN\n",
      "                ...   \n",
      "2022-12-22   -4.788179\n",
      "2022-12-23   -4.836612\n",
      "2022-12-26   -4.836959\n",
      "2022-12-27   -4.821154\n",
      "2022-12-28   -4.888635\n",
      "Freq: B, Name: price, Length: 2606, dtype: float64\n",
      "2023-08-07 14:36:47 DEBUG base_system {'stage': 'forecastScaleCap', 'instrument_code': 'EDOLLAR'} Calculating capped forecast for EDOLLAR ewmac32_128\n",
      "2023-08-07 14:36:47 DEBUG base_system {'stage': 'rules', 'instrument_code': 'EDOLLAR'} Calculating raw forecast EDOLLAR for ewmac32_128\n",
      "2023-08-07 14:36:47 DEBUG base_system {'stage': 'rawdata', 'instrument_code': 'EDOLLAR'} Calculating daily prices for EDOLLAR\n",
      "index\n",
      "1984-03-23         NaN\n",
      "1984-03-26         NaN\n",
      "1984-03-27         NaN\n",
      "1984-03-28         NaN\n",
      "1984-03-29         NaN\n",
      "                ...   \n",
      "2022-12-26   -0.840160\n",
      "2022-12-27   -0.921139\n",
      "2022-12-28   -1.049701\n",
      "2022-12-29   -1.148558\n",
      "2022-12-30   -1.279285\n",
      "Freq: B, Name: price, Length: 10116, dtype: float64\n",
      "2023-08-07 14:36:47 DEBUG base_system {'stage': 'forecastScaleCap', 'instrument_code': 'EUROSTX'} Calculating capped forecast for EUROSTX ewmac32_128\n",
      "2023-08-07 14:36:47 DEBUG base_system {'stage': 'rules', 'instrument_code': 'EUROSTX'} Calculating raw forecast EUROSTX for ewmac32_128\n",
      "2023-08-07 14:36:47 DEBUG base_system {'stage': 'rawdata', 'instrument_code': 'EUROSTX'} Calculating daily prices for EUROSTX\n",
      "index\n",
      "2014-03-13         NaN\n",
      "2014-03-14         NaN\n",
      "2014-03-17         NaN\n",
      "2014-03-18         NaN\n",
      "2014-03-19         NaN\n",
      "                ...   \n",
      "2022-12-26    3.205933\n",
      "2022-12-27    3.138048\n",
      "2022-12-28    3.095370\n",
      "2022-12-29    3.052343\n",
      "2022-12-30    2.847950\n",
      "Freq: B, Name: price, Length: 2297, dtype: float64\n",
      "2023-08-07 14:36:47 DEBUG base_system {'stage': 'forecastScaleCap', 'instrument_code': 'MXP'} Calculating capped forecast for MXP ewmac32_128\n",
      "2023-08-07 14:36:47 DEBUG base_system {'stage': 'rules', 'instrument_code': 'MXP'} Calculating raw forecast MXP for ewmac32_128\n",
      "2023-08-07 14:36:47 DEBUG base_system {'stage': 'rawdata', 'instrument_code': 'MXP'} Calculating daily prices for MXP\n",
      "index\n",
      "1995-09-15         NaN\n",
      "1995-09-18         NaN\n",
      "1995-09-19         NaN\n",
      "1995-09-20         NaN\n",
      "1995-09-21         NaN\n",
      "                ...   \n",
      "2022-12-26    3.234460\n",
      "2022-12-27    3.256722\n",
      "2022-12-28    3.354386\n",
      "2022-12-29    3.465476\n",
      "2022-12-30    3.479777\n",
      "Freq: B, Name: price, Length: 7121, dtype: float64\n",
      "2023-08-07 14:36:47 DEBUG base_system {'stage': 'forecastScaleCap', 'instrument_code': 'US10'} Calculating capped forecast for US10 ewmac32_128\n",
      "2023-08-07 14:36:47 DEBUG base_system {'stage': 'rules', 'instrument_code': 'US10'} Calculating raw forecast US10 for ewmac32_128\n",
      "2023-08-07 14:36:47 DEBUG base_system {'stage': 'rawdata', 'instrument_code': 'US10'} Calculating daily prices for US10\n",
      "index\n",
      "1982-08-30         NaN\n",
      "1982-08-31         NaN\n",
      "1982-09-01         NaN\n",
      "1982-09-02         NaN\n",
      "1982-09-03         NaN\n",
      "                ...   \n",
      "2022-12-22   -3.012081\n",
      "2022-12-23   -3.054227\n",
      "2022-12-26   -3.054128\n",
      "2022-12-27   -3.115497\n",
      "2022-12-28   -3.256697\n",
      "Freq: B, Name: price, Length: 10523, dtype: float64\n",
      "2023-08-07 14:36:48 DEBUG base_system {'stage': 'forecastScaleCap', 'instrument_code': 'V2X'} Calculating capped forecast for V2X ewmac32_128\n",
      "2023-08-07 14:36:48 DEBUG base_system {'stage': 'rules', 'instrument_code': 'V2X'} Calculating raw forecast V2X for ewmac32_128\n",
      "2023-08-07 14:36:48 DEBUG base_system {'stage': 'rawdata', 'instrument_code': 'V2X'} Calculating daily prices for V2X\n",
      "index\n",
      "2013-01-02         NaN\n",
      "2013-01-03         NaN\n",
      "2013-01-04         NaN\n",
      "2013-01-07         NaN\n",
      "2013-01-08         NaN\n",
      "                ...   \n",
      "2022-12-22   -5.717498\n",
      "2022-12-23   -5.867585\n",
      "2022-12-26   -5.868005\n",
      "2022-12-27   -5.929743\n",
      "2022-12-28   -6.101025\n",
      "Freq: B, Name: price, Length: 2606, dtype: float64\n",
      "2023-08-07 14:36:48 DEBUG base_system {'stage': 'forecastScaleCap', 'instrument_code': 'EDOLLAR'} Calculating capped forecast for EDOLLAR ewmac64_256\n",
      "2023-08-07 14:36:48 DEBUG base_system {'stage': 'rules', 'instrument_code': 'EDOLLAR'} Calculating raw forecast EDOLLAR for ewmac64_256\n",
      "2023-08-07 14:36:48 DEBUG base_system {'stage': 'rawdata', 'instrument_code': 'EDOLLAR'} Calculating daily prices for EDOLLAR\n",
      "index\n",
      "1984-03-23         NaN\n",
      "1984-03-26         NaN\n",
      "1984-03-27         NaN\n",
      "1984-03-28         NaN\n",
      "1984-03-29         NaN\n",
      "                ...   \n",
      "2022-12-26   -6.049228\n",
      "2022-12-27   -6.031015\n",
      "2022-12-28   -6.087787\n",
      "2022-12-29   -6.171581\n",
      "2022-12-30   -6.256119\n",
      "Freq: B, Name: price, Length: 10116, dtype: float64\n",
      "2023-08-07 14:36:48 DEBUG base_system {'stage': 'forecastScaleCap', 'instrument_code': 'EUROSTX'} Calculating capped forecast for EUROSTX ewmac64_256\n",
      "2023-08-07 14:36:48 DEBUG base_system {'stage': 'rules', 'instrument_code': 'EUROSTX'} Calculating raw forecast EUROSTX for ewmac64_256\n",
      "2023-08-07 14:36:48 DEBUG base_system {'stage': 'rawdata', 'instrument_code': 'EUROSTX'} Calculating daily prices for EUROSTX\n",
      "index\n",
      "2014-03-13         NaN\n",
      "2014-03-14         NaN\n",
      "2014-03-17         NaN\n",
      "2014-03-18         NaN\n",
      "2014-03-19         NaN\n",
      "                ...   \n",
      "2022-12-26    1.393069\n",
      "2022-12-27    1.416879\n",
      "2022-12-28    1.449395\n",
      "2022-12-29    1.481004\n",
      "2022-12-30    1.430242\n",
      "Freq: B, Name: price, Length: 2297, dtype: float64\n",
      "2023-08-07 14:36:48 DEBUG base_system {'stage': 'forecastScaleCap', 'instrument_code': 'MXP'} Calculating capped forecast for MXP ewmac64_256\n",
      "2023-08-07 14:36:48 DEBUG base_system {'stage': 'rules', 'instrument_code': 'MXP'} Calculating raw forecast MXP for ewmac64_256\n",
      "2023-08-07 14:36:48 DEBUG base_system {'stage': 'rawdata', 'instrument_code': 'MXP'} Calculating daily prices for MXP\n",
      "index\n",
      "1995-09-15         NaN\n",
      "1995-09-18         NaN\n",
      "1995-09-19         NaN\n",
      "1995-09-20         NaN\n",
      "1995-09-21         NaN\n",
      "                ...   \n",
      "2022-12-26    5.263976\n",
      "2022-12-27    5.284852\n",
      "2022-12-28    5.413711\n",
      "2022-12-29    5.551968\n",
      "2022-12-30    5.580226\n",
      "Freq: B, Name: price, Length: 7121, dtype: float64\n",
      "2023-08-07 14:36:48 DEBUG base_system {'stage': 'forecastScaleCap', 'instrument_code': 'US10'} Calculating capped forecast for US10 ewmac64_256\n",
      "2023-08-07 14:36:48 DEBUG base_system {'stage': 'rules', 'instrument_code': 'US10'} Calculating raw forecast US10 for ewmac64_256\n",
      "2023-08-07 14:36:48 DEBUG base_system {'stage': 'rawdata', 'instrument_code': 'US10'} Calculating daily prices for US10\n",
      "index\n",
      "1982-08-30         NaN\n",
      "1982-08-31         NaN\n",
      "1982-09-01         NaN\n",
      "1982-09-02         NaN\n",
      "1982-09-03         NaN\n",
      "                ...   \n",
      "2022-12-22   -9.556124\n",
      "2022-12-23   -9.663533\n",
      "2022-12-26   -9.663218\n",
      "2022-12-27   -9.641962\n",
      "2022-12-28   -9.812550\n",
      "Freq: B, Name: price, Length: 10523, dtype: float64\n",
      "2023-08-07 14:36:48 DEBUG base_system {'stage': 'forecastScaleCap', 'instrument_code': 'V2X'} Calculating capped forecast for V2X ewmac64_256\n",
      "2023-08-07 14:36:48 DEBUG base_system {'stage': 'rules', 'instrument_code': 'V2X'} Calculating raw forecast V2X for ewmac64_256\n",
      "2023-08-07 14:36:48 DEBUG base_system {'stage': 'rawdata', 'instrument_code': 'V2X'} Calculating daily prices for V2X\n",
      "index\n",
      "2013-01-02         NaN\n",
      "2013-01-03         NaN\n",
      "2013-01-04         NaN\n",
      "2013-01-07         NaN\n",
      "2013-01-08         NaN\n",
      "                ...   \n",
      "2022-12-22   -3.593744\n",
      "2022-12-23   -3.768880\n",
      "2022-12-26   -3.769150\n",
      "2022-12-27   -3.887750\n",
      "2022-12-28   -4.080705\n",
      "Freq: B, Name: price, Length: 2606, dtype: float64\n",
      "2023-08-07 14:36:48 DEBUG base_system {'stage': 'combForecast', 'instrument_code': 'CORN'} Only this set of rules ['carry', 'ewmac16_64', 'ewmac32_128', 'ewmac64_256'] is cheap enough to trade for CORN\n",
      "2023-08-07 14:36:48 DEBUG base_system {'stage': 'combForecast', 'instrument_code': 'CORN'} Non-nested dict of forecast weights for CORN {'ewmac16_64': 0.21, 'ewmac32_128': 0.08, 'ewmac64_256': 0.21, 'carry': 0.5}: weights the same for all instruments\n",
      "2023-08-07 14:36:48 DEBUG base_system {'stage': 'combForecast', 'instrument_code': 'CORN'} Using fixed FDM multiplier of 1.310 for CORN\n",
      "2023-08-07 14:36:48 DEBUG base_system {'stage': 'combForecast', 'instrument_code': 'CORN'} No mapping applied for CORN\n",
      "2023-08-07 14:36:48 DEBUG base_system {'stage': 'positionSize', 'instrument_code': 'EDOLLAR'} Calculating subsystem position for EDOLLAR\n",
      "2023-08-07 14:36:48 DEBUG base_system {'stage': 'positionSize', 'instrument_code': 'EDOLLAR'} Calculating volatility scalar for EDOLLAR\n",
      "2023-08-07 14:36:48 DEBUG base_system {'stage': 'positionSize', 'instrument_code': 'EDOLLAR'} Calculating instrument value vol for EDOLLAR\n",
      "2023-08-07 14:36:48 DEBUG base_system {'stage': 'positionSize', 'instrument_code': 'EDOLLAR'} Calculating instrument currency vol for EDOLLAR\n",
      "2023-08-07 14:36:48 DEBUG base_system {'stage': 'combForecast', 'instrument_code': 'EDOLLAR'} Calculating combined forecast for EDOLLAR\n",
      "2023-08-07 14:36:48 DEBUG base_system {'stage': 'combForecast', 'instrument_code': 'EDOLLAR'} Calculating forecast weights for EDOLLAR\n",
      "2023-08-07 14:36:48 DEBUG base_system {'stage': 'combForecast', 'instrument_code': 'EDOLLAR'} Only this set of rules ['carry', 'ewmac16_64', 'ewmac32_128', 'ewmac64_256'] is cheap enough to trade for EDOLLAR\n",
      "2023-08-07 14:36:48 DEBUG base_system {'stage': 'combForecast', 'instrument_code': 'EDOLLAR'} Non-nested dict of forecast weights for EDOLLAR {'ewmac16_64': 0.21, 'ewmac32_128': 0.08, 'ewmac64_256': 0.21, 'carry': 0.5}: weights the same for all instruments\n",
      "2023-08-07 14:36:48 DEBUG base_system {'stage': 'combForecast', 'instrument_code': 'EDOLLAR'} Using fixed FDM multiplier of 1.310 for EDOLLAR\n",
      "2023-08-07 14:36:48 DEBUG base_system {'stage': 'combForecast', 'instrument_code': 'EDOLLAR'} No mapping applied for EDOLLAR\n",
      "2023-08-07 14:36:48 DEBUG base_system {'stage': 'positionSize', 'instrument_code': 'EUROSTX'} Calculating subsystem position for EUROSTX\n",
      "2023-08-07 14:36:48 DEBUG base_system {'stage': 'positionSize', 'instrument_code': 'EUROSTX'} Calculating volatility scalar for EUROSTX\n",
      "2023-08-07 14:36:48 DEBUG base_system {'stage': 'positionSize', 'instrument_code': 'EUROSTX'} Calculating instrument value vol for EUROSTX\n",
      "2023-08-07 14:36:48 DEBUG base_system {'stage': 'positionSize', 'instrument_code': 'EUROSTX'} Calculating instrument currency vol for EUROSTX\n",
      "2023-08-07 14:36:48 DEBUG base_system {'stage': 'combForecast', 'instrument_code': 'EUROSTX'} Calculating combined forecast for EUROSTX\n",
      "2023-08-07 14:36:48 DEBUG base_system {'stage': 'combForecast', 'instrument_code': 'EUROSTX'} Calculating forecast weights for EUROSTX\n",
      "2023-08-07 14:36:48 DEBUG base_system {'stage': 'combForecast', 'instrument_code': 'EUROSTX'} Only this set of rules ['carry', 'ewmac16_64', 'ewmac32_128', 'ewmac64_256'] is cheap enough to trade for EUROSTX\n",
      "2023-08-07 14:36:48 DEBUG base_system {'stage': 'combForecast', 'instrument_code': 'EUROSTX'} Non-nested dict of forecast weights for EUROSTX {'ewmac16_64': 0.21, 'ewmac32_128': 0.08, 'ewmac64_256': 0.21, 'carry': 0.5}: weights the same for all instruments\n",
      "2023-08-07 14:36:48 DEBUG base_system {'stage': 'combForecast', 'instrument_code': 'EUROSTX'} Using fixed FDM multiplier of 1.310 for EUROSTX\n",
      "2023-08-07 14:36:48 DEBUG base_system {'stage': 'combForecast', 'instrument_code': 'EUROSTX'} No mapping applied for EUROSTX\n",
      "2023-08-07 14:36:48 DEBUG base_system {'stage': 'positionSize', 'instrument_code': 'MXP'} Calculating subsystem position for MXP\n",
      "2023-08-07 14:36:48 DEBUG base_system {'stage': 'positionSize', 'instrument_code': 'MXP'} Calculating volatility scalar for MXP\n",
      "2023-08-07 14:36:48 DEBUG base_system {'stage': 'positionSize', 'instrument_code': 'MXP'} Calculating instrument value vol for MXP\n",
      "2023-08-07 14:36:48 DEBUG base_system {'stage': 'positionSize', 'instrument_code': 'MXP'} Calculating instrument currency vol for MXP\n",
      "2023-08-07 14:36:49 DEBUG base_system {'stage': 'combForecast', 'instrument_code': 'MXP'} Calculating combined forecast for MXP\n",
      "2023-08-07 14:36:49 DEBUG base_system {'stage': 'combForecast', 'instrument_code': 'MXP'} Calculating forecast weights for MXP\n",
      "2023-08-07 14:36:49 DEBUG base_system {'stage': 'combForecast', 'instrument_code': 'MXP'} Only this set of rules ['carry', 'ewmac16_64', 'ewmac32_128', 'ewmac64_256'] is cheap enough to trade for MXP\n",
      "2023-08-07 14:36:49 DEBUG base_system {'stage': 'combForecast', 'instrument_code': 'MXP'} Non-nested dict of forecast weights for MXP {'ewmac16_64': 0.21, 'ewmac32_128': 0.08, 'ewmac64_256': 0.21, 'carry': 0.5}: weights the same for all instruments\n",
      "2023-08-07 14:36:49 DEBUG base_system {'stage': 'combForecast', 'instrument_code': 'MXP'} Using fixed FDM multiplier of 1.310 for MXP\n",
      "2023-08-07 14:36:49 DEBUG base_system {'stage': 'combForecast', 'instrument_code': 'MXP'} No mapping applied for MXP\n",
      "2023-08-07 14:36:49 DEBUG base_system {'stage': 'positionSize', 'instrument_code': 'US10'} Calculating subsystem position for US10\n",
      "2023-08-07 14:36:49 DEBUG base_system {'stage': 'positionSize', 'instrument_code': 'US10'} Calculating volatility scalar for US10\n",
      "2023-08-07 14:36:49 DEBUG base_system {'stage': 'positionSize', 'instrument_code': 'US10'} Calculating instrument value vol for US10\n",
      "2023-08-07 14:36:49 DEBUG base_system {'stage': 'positionSize', 'instrument_code': 'US10'} Calculating instrument currency vol for US10\n",
      "2023-08-07 14:36:49 DEBUG base_system {'stage': 'combForecast', 'instrument_code': 'US10'} Calculating combined forecast for US10\n",
      "2023-08-07 14:36:49 DEBUG base_system {'stage': 'combForecast', 'instrument_code': 'US10'} Calculating forecast weights for US10\n",
      "2023-08-07 14:36:49 DEBUG base_system {'stage': 'combForecast', 'instrument_code': 'US10'} Only this set of rules ['carry', 'ewmac16_64', 'ewmac32_128', 'ewmac64_256'] is cheap enough to trade for US10\n",
      "2023-08-07 14:36:49 DEBUG base_system {'stage': 'combForecast', 'instrument_code': 'US10'} Non-nested dict of forecast weights for US10 {'ewmac16_64': 0.21, 'ewmac32_128': 0.08, 'ewmac64_256': 0.21, 'carry': 0.5}: weights the same for all instruments\n",
      "2023-08-07 14:36:49 DEBUG base_system {'stage': 'combForecast', 'instrument_code': 'US10'} Using fixed FDM multiplier of 1.310 for US10\n",
      "2023-08-07 14:36:49 DEBUG base_system {'stage': 'combForecast', 'instrument_code': 'US10'} No mapping applied for US10\n",
      "2023-08-07 14:36:49 DEBUG base_system {'stage': 'positionSize', 'instrument_code': 'V2X'} Calculating subsystem position for V2X\n",
      "2023-08-07 14:36:49 DEBUG base_system {'stage': 'positionSize', 'instrument_code': 'V2X'} Calculating volatility scalar for V2X\n",
      "2023-08-07 14:36:49 DEBUG base_system {'stage': 'positionSize', 'instrument_code': 'V2X'} Calculating instrument value vol for V2X\n",
      "2023-08-07 14:36:49 DEBUG base_system {'stage': 'positionSize', 'instrument_code': 'V2X'} Calculating instrument currency vol for V2X\n",
      "2023-08-07 14:36:49 DEBUG base_system {'stage': 'combForecast', 'instrument_code': 'V2X'} Calculating combined forecast for V2X\n",
      "2023-08-07 14:36:49 DEBUG base_system {'stage': 'combForecast', 'instrument_code': 'V2X'} Calculating forecast weights for V2X\n",
      "2023-08-07 14:36:49 DEBUG base_system {'stage': 'combForecast', 'instrument_code': 'V2X'} Only this set of rules ['carry', 'ewmac16_64', 'ewmac32_128', 'ewmac64_256'] is cheap enough to trade for V2X\n",
      "2023-08-07 14:36:49 DEBUG base_system {'stage': 'combForecast', 'instrument_code': 'V2X'} Non-nested dict of forecast weights for V2X {'ewmac16_64': 0.21, 'ewmac32_128': 0.08, 'ewmac64_256': 0.21, 'carry': 0.5}: weights the same for all instruments\n",
      "2023-08-07 14:36:49 DEBUG base_system {'stage': 'combForecast', 'instrument_code': 'V2X'} Using fixed FDM multiplier of 1.310 for V2X\n",
      "2023-08-07 14:36:49 DEBUG base_system {'stage': 'combForecast', 'instrument_code': 'V2X'} No mapping applied for V2X\n",
      "2023-08-07 14:36:49 DEBUG base_system {'stage': 'portfolio', 'instrument_code': 'CORN'} Following instruments will have zero weight in optimisation of instrument weights as they have no positions (possibly too expensive?) []\n",
      "2023-08-07 14:36:49 INFO base_system {'stage': 'portfolio', 'instrument_code': 'CORN'} Using fixed diversification multiplier 1.890000\n",
      "2023-08-07 14:36:49 DEBUG base_system {'stage': 'portfolio', 'instrument_code': 'CORN'} No risk overlay in config: won't apply risk scaling\n",
      "2023-08-07 14:36:49 DEBUG base_system {'stage': 'portfolio', 'instrument_code': 'CORN'} Calculating buffers for CORN\n",
      "2023-08-07 14:36:49 DEBUG base_system {'stage': 'portfolio', 'instrument_code': 'CORN'} Calculating forecast method buffers for CORN\n",
      "2023-08-07 14:36:49 DEBUG base_system {'stage': 'accounts', 'instrument_code': 'CORN'} Calculating buffered positions\n",
      "2023-08-07 14:36:49 DEBUG base_system {'stage': 'accounts', 'instrument_code': 'CORN'} Calculating pandl for instrument for CORN\n",
      "2023-08-07 14:36:50 DEBUG base_system {'stage': 'accounts', 'instrument_code': 'EDOLLAR'} Calculating pandl for instrument for EDOLLAR\n",
      "2023-08-07 14:36:50 DEBUG base_system {'stage': 'portfolio', 'instrument_code': 'EDOLLAR'} Calculating notional position for EDOLLAR\n",
      "2023-08-07 14:36:50 DEBUG base_system {'stage': 'portfolio', 'instrument_code': 'EDOLLAR'} Calculating buffers for EDOLLAR\n",
      "2023-08-07 14:36:50 DEBUG base_system {'stage': 'portfolio', 'instrument_code': 'EDOLLAR'} Calculating forecast method buffers for EDOLLAR\n",
      "2023-08-07 14:36:50 DEBUG base_system {'stage': 'accounts', 'instrument_code': 'EDOLLAR'} Calculating buffered positions\n",
      "2023-08-07 14:36:50 DEBUG base_system {'stage': 'accounts', 'instrument_code': 'EDOLLAR'} Calculating pandl for instrument for EDOLLAR\n",
      "2023-08-07 14:36:50 DEBUG base_system {'stage': 'accounts', 'instrument_code': 'EUROSTX'} Calculating pandl for instrument for EUROSTX\n",
      "2023-08-07 14:36:50 DEBUG base_system {'stage': 'portfolio', 'instrument_code': 'EUROSTX'} Calculating notional position for EUROSTX\n",
      "2023-08-07 14:36:50 DEBUG base_system {'stage': 'portfolio', 'instrument_code': 'EUROSTX'} Calculating buffers for EUROSTX\n",
      "2023-08-07 14:36:50 DEBUG base_system {'stage': 'portfolio', 'instrument_code': 'EUROSTX'} Calculating forecast method buffers for EUROSTX\n",
      "2023-08-07 14:36:50 DEBUG base_system {'stage': 'accounts', 'instrument_code': 'EUROSTX'} Calculating buffered positions\n",
      "2023-08-07 14:36:50 DEBUG base_system {'stage': 'accounts', 'instrument_code': 'EUROSTX'} Calculating pandl for instrument for EUROSTX\n",
      "2023-08-07 14:36:50 DEBUG base_system {'stage': 'accounts', 'instrument_code': 'MXP'} Calculating pandl for instrument for MXP\n",
      "2023-08-07 14:36:50 DEBUG base_system {'stage': 'portfolio', 'instrument_code': 'MXP'} Calculating notional position for MXP\n",
      "2023-08-07 14:36:50 DEBUG base_system {'stage': 'portfolio', 'instrument_code': 'MXP'} Calculating buffers for MXP\n",
      "2023-08-07 14:36:50 DEBUG base_system {'stage': 'portfolio', 'instrument_code': 'MXP'} Calculating forecast method buffers for MXP\n",
      "2023-08-07 14:36:50 DEBUG base_system {'stage': 'accounts', 'instrument_code': 'MXP'} Calculating buffered positions\n",
      "2023-08-07 14:36:50 DEBUG base_system {'stage': 'accounts', 'instrument_code': 'MXP'} Calculating pandl for instrument for MXP\n",
      "2023-08-07 14:36:50 DEBUG base_system {'stage': 'accounts', 'instrument_code': 'US10'} Calculating pandl for instrument for US10\n",
      "2023-08-07 14:36:50 DEBUG base_system {'stage': 'portfolio', 'instrument_code': 'US10'} Calculating notional position for US10\n",
      "2023-08-07 14:36:50 DEBUG base_system {'stage': 'portfolio', 'instrument_code': 'US10'} Calculating buffers for US10\n",
      "2023-08-07 14:36:50 DEBUG base_system {'stage': 'portfolio', 'instrument_code': 'US10'} Calculating forecast method buffers for US10\n",
      "2023-08-07 14:36:50 DEBUG base_system {'stage': 'accounts', 'instrument_code': 'US10'} Calculating buffered positions\n",
      "2023-08-07 14:36:50 DEBUG base_system {'stage': 'accounts', 'instrument_code': 'US10'} Calculating pandl for instrument for US10\n",
      "2023-08-07 14:36:50 DEBUG base_system {'stage': 'accounts', 'instrument_code': 'V2X'} Calculating pandl for instrument for V2X\n",
      "2023-08-07 14:36:50 DEBUG base_system {'stage': 'portfolio', 'instrument_code': 'V2X'} Calculating notional position for V2X\n",
      "2023-08-07 14:36:50 DEBUG base_system {'stage': 'portfolio', 'instrument_code': 'V2X'} Calculating buffers for V2X\n",
      "2023-08-07 14:36:50 DEBUG base_system {'stage': 'portfolio', 'instrument_code': 'V2X'} Calculating forecast method buffers for V2X\n",
      "2023-08-07 14:36:50 DEBUG base_system {'stage': 'accounts', 'instrument_code': 'V2X'} Calculating buffered positions\n",
      "2023-08-07 14:36:50 DEBUG base_system {'stage': 'accounts', 'instrument_code': 'V2X'} Calculating pandl for instrument for V2X\n"
     ]
    },
    {
     "data": {
      "text/plain": [
       "0.47151919574718626"
      ]
     },
     "execution_count": 3,
     "metadata": {},
     "output_type": "execute_result"
    }
   ],
   "source": [
    "system.accounts.portfolio().sharpe()"
   ]
  },
  {
   "cell_type": "code",
   "execution_count": 4,
   "metadata": {},
   "outputs": [
    {
     "name": "stdout",
     "output_type": "stream",
     "text": [
      "2023-08-06 13:04:05 INFO base_system {'stage': 'accounts'} Calculating pandl for portfolio\n",
      "2023-08-06 13:04:05 DEBUG base_system {'stage': 'positionSize'} Getting vol target\n",
      "2023-08-06 13:04:05 DEBUG base_system {'stage': 'accounts', 'instrument_code': 'CORN'} Calculating pandl for instrument for CORN\n",
      "2023-08-06 13:04:05 DEBUG base_system {'stage': 'portfolio', 'instrument_code': 'CORN'} Calculating notional position for CORN\n",
      "2023-08-06 13:04:05 INFO base_system {'stage': 'portfolio', 'instrument_code': 'CORN'} Calculating instrument weights\n",
      "2023-08-06 13:04:05 DEBUG base_system {'stage': 'portfolio', 'instrument_code': 'CORN'} Calculating raw instrument weights\n",
      "2023-08-06 13:04:05 DEBUG base_system Following instruments are 'duplicate_markets' ['Another_thing', 'bad_thing'] \n",
      "2023-08-06 13:04:05 DEBUG base_system Following instruments are marked as 'ignore_instruments': not included: ['EXAMPLE']\n",
      "2023-08-06 13:04:05 DEBUG base_system Following instruments are marked as 'bad_markets':  ['BAD_EXAMPLE']\n",
      "2023-08-06 13:04:05 DEBUG base_system Following instruments have restricted trading:  ['RESTRICTED_EXAMPLE'] \n",
      "2023-08-06 13:04:05 DEBUG base_system Following instruments marked as not trading []\n",
      "2023-08-06 13:04:05 DEBUG base_system {'stage': 'positionSize', 'instrument_code': 'CORN'} Calculating subsystem position for CORN\n",
      "2023-08-06 13:04:05 DEBUG base_system {'stage': 'positionSize', 'instrument_code': 'CORN'} Calculating volatility scalar for CORN\n",
      "2023-08-06 13:04:05 DEBUG base_system {'stage': 'positionSize', 'instrument_code': 'CORN'} Calculating instrument value vol for CORN\n",
      "2023-08-06 13:04:05 DEBUG base_system {'stage': 'positionSize', 'instrument_code': 'CORN'} Calculating instrument currency vol for CORN\n",
      "2023-08-06 13:04:06 DEBUG base_system {'stage': 'rawdata', 'instrument_code': 'CORN'} Calculating daily volatility for CORN\n",
      "2023-08-06 13:04:06 DEBUG base_system {'stage': 'rawdata', 'instrument_code': 'CORN'} Calculating daily prices for CORN\n",
      "2023-08-06 13:04:06 DEBUG base_system {'stage': 'combForecast', 'instrument_code': 'CORN'} Calculating combined forecast for CORN\n",
      "2023-08-06 13:04:06 DEBUG base_system {'stage': 'forecastScaleCap', 'instrument_code': 'CORN'} Calculating capped forecast for CORN carry\n",
      "2023-08-06 13:04:06 DEBUG base_system {'stage': 'rules', 'instrument_code': 'CORN'} Calculating raw forecast CORN for carry\n",
      "2023-08-06 13:04:06 DEBUG base_system {'stage': 'forecastScaleCap', 'instrument_code': 'CORN'} Calculating capped forecast for CORN ewmac16_64\n",
      "2023-08-06 13:04:06 DEBUG base_system {'stage': 'rules', 'instrument_code': 'CORN'} Calculating raw forecast CORN for ewmac16_64\n",
      "2023-08-06 13:04:06 DEBUG base_system {'stage': 'rawdata', 'instrument_code': 'CORN'} Calculating daily prices for CORN\n",
      "2023-08-06 13:04:06 DEBUG base_system {'stage': 'forecastScaleCap', 'instrument_code': 'CORN'} Calculating capped forecast for CORN ewmac32_128\n",
      "2023-08-06 13:04:06 DEBUG base_system {'stage': 'rules', 'instrument_code': 'CORN'} Calculating raw forecast CORN for ewmac32_128\n",
      "2023-08-06 13:04:06 DEBUG base_system {'stage': 'rawdata', 'instrument_code': 'CORN'} Calculating daily prices for CORN\n",
      "2023-08-06 13:04:06 DEBUG base_system {'stage': 'forecastScaleCap', 'instrument_code': 'CORN'} Calculating capped forecast for CORN ewmac64_256\n",
      "2023-08-06 13:04:06 DEBUG base_system {'stage': 'rules', 'instrument_code': 'CORN'} Calculating raw forecast CORN for ewmac64_256\n",
      "2023-08-06 13:04:06 DEBUG base_system {'stage': 'rawdata', 'instrument_code': 'CORN'} Calculating daily prices for CORN\n",
      "2023-08-06 13:04:06 DEBUG base_system {'stage': 'combForecast', 'instrument_code': 'CORN'} Calculating forecast weights for CORN\n",
      "2023-08-06 13:04:06 DEBUG base_system {'stage': 'forecastScaleCap', 'instrument_code': 'EDOLLAR'} Calculating capped forecast for EDOLLAR carry\n",
      "2023-08-06 13:04:06 DEBUG base_system {'stage': 'rules', 'instrument_code': 'EDOLLAR'} Calculating raw forecast EDOLLAR for carry\n",
      "2023-08-06 13:04:06 DEBUG base_system {'stage': 'forecastScaleCap', 'instrument_code': 'EUROSTX'} Calculating capped forecast for EUROSTX carry\n",
      "2023-08-06 13:04:06 DEBUG base_system {'stage': 'rules', 'instrument_code': 'EUROSTX'} Calculating raw forecast EUROSTX for carry\n",
      "2023-08-06 13:04:06 DEBUG base_system {'stage': 'rawdata', 'instrument_code': 'EUROSTX'} Calculating daily volatility for EUROSTX\n",
      "2023-08-06 13:04:06 DEBUG base_system {'stage': 'rawdata', 'instrument_code': 'EUROSTX'} Calculating daily prices for EUROSTX\n",
      "2023-08-06 13:04:06 DEBUG base_system {'stage': 'forecastScaleCap', 'instrument_code': 'MXP'} Calculating capped forecast for MXP carry\n",
      "2023-08-06 13:04:06 DEBUG base_system {'stage': 'rules', 'instrument_code': 'MXP'} Calculating raw forecast MXP for carry\n",
      "2023-08-06 13:04:07 DEBUG base_system {'stage': 'rawdata', 'instrument_code': 'MXP'} Calculating daily volatility for MXP\n",
      "2023-08-06 13:04:07 DEBUG base_system {'stage': 'rawdata', 'instrument_code': 'MXP'} Calculating daily prices for MXP\n",
      "2023-08-06 13:04:07 DEBUG base_system {'stage': 'forecastScaleCap', 'instrument_code': 'US10'} Calculating capped forecast for US10 carry\n",
      "2023-08-06 13:04:07 DEBUG base_system {'stage': 'rules', 'instrument_code': 'US10'} Calculating raw forecast US10 for carry\n",
      "2023-08-06 13:04:07 DEBUG base_system {'stage': 'rawdata', 'instrument_code': 'US10'} Calculating daily volatility for US10\n",
      "2023-08-06 13:04:07 DEBUG base_system {'stage': 'rawdata', 'instrument_code': 'US10'} Calculating daily prices for US10\n",
      "2023-08-06 13:04:07 DEBUG base_system {'stage': 'forecastScaleCap', 'instrument_code': 'V2X'} Calculating capped forecast for V2X carry\n",
      "2023-08-06 13:04:07 DEBUG base_system {'stage': 'rules', 'instrument_code': 'V2X'} Calculating raw forecast V2X for carry\n",
      "2023-08-06 13:04:07 DEBUG base_system {'stage': 'rawdata', 'instrument_code': 'V2X'} Calculating daily volatility for V2X\n",
      "2023-08-06 13:04:07 DEBUG base_system {'stage': 'rawdata', 'instrument_code': 'V2X'} Calculating daily prices for V2X\n",
      "2023-08-06 13:04:07 DEBUG base_system {'stage': 'forecastScaleCap', 'instrument_code': 'EDOLLAR'} Calculating capped forecast for EDOLLAR ewmac16_64\n",
      "2023-08-06 13:04:07 DEBUG base_system {'stage': 'rules', 'instrument_code': 'EDOLLAR'} Calculating raw forecast EDOLLAR for ewmac16_64\n",
      "2023-08-06 13:04:07 DEBUG base_system {'stage': 'rawdata', 'instrument_code': 'EDOLLAR'} Calculating daily prices for EDOLLAR\n",
      "2023-08-06 13:04:07 DEBUG base_system {'stage': 'forecastScaleCap', 'instrument_code': 'EUROSTX'} Calculating capped forecast for EUROSTX ewmac16_64\n",
      "2023-08-06 13:04:07 DEBUG base_system {'stage': 'rules', 'instrument_code': 'EUROSTX'} Calculating raw forecast EUROSTX for ewmac16_64\n",
      "2023-08-06 13:04:07 DEBUG base_system {'stage': 'rawdata', 'instrument_code': 'EUROSTX'} Calculating daily prices for EUROSTX\n",
      "2023-08-06 13:04:07 DEBUG base_system {'stage': 'forecastScaleCap', 'instrument_code': 'MXP'} Calculating capped forecast for MXP ewmac16_64\n",
      "2023-08-06 13:04:07 DEBUG base_system {'stage': 'rules', 'instrument_code': 'MXP'} Calculating raw forecast MXP for ewmac16_64\n",
      "2023-08-06 13:04:07 DEBUG base_system {'stage': 'rawdata', 'instrument_code': 'MXP'} Calculating daily prices for MXP\n",
      "2023-08-06 13:04:07 DEBUG base_system {'stage': 'forecastScaleCap', 'instrument_code': 'US10'} Calculating capped forecast for US10 ewmac16_64\n",
      "2023-08-06 13:04:07 DEBUG base_system {'stage': 'rules', 'instrument_code': 'US10'} Calculating raw forecast US10 for ewmac16_64\n",
      "2023-08-06 13:04:07 DEBUG base_system {'stage': 'rawdata', 'instrument_code': 'US10'} Calculating daily prices for US10\n",
      "2023-08-06 13:04:08 DEBUG base_system {'stage': 'forecastScaleCap', 'instrument_code': 'V2X'} Calculating capped forecast for V2X ewmac16_64\n",
      "2023-08-06 13:04:08 DEBUG base_system {'stage': 'rules', 'instrument_code': 'V2X'} Calculating raw forecast V2X for ewmac16_64\n",
      "2023-08-06 13:04:08 DEBUG base_system {'stage': 'rawdata', 'instrument_code': 'V2X'} Calculating daily prices for V2X\n",
      "2023-08-06 13:04:08 DEBUG base_system {'stage': 'forecastScaleCap', 'instrument_code': 'EDOLLAR'} Calculating capped forecast for EDOLLAR ewmac32_128\n",
      "2023-08-06 13:04:08 DEBUG base_system {'stage': 'rules', 'instrument_code': 'EDOLLAR'} Calculating raw forecast EDOLLAR for ewmac32_128\n",
      "2023-08-06 13:04:08 DEBUG base_system {'stage': 'rawdata', 'instrument_code': 'EDOLLAR'} Calculating daily prices for EDOLLAR\n",
      "2023-08-06 13:04:08 DEBUG base_system {'stage': 'forecastScaleCap', 'instrument_code': 'EUROSTX'} Calculating capped forecast for EUROSTX ewmac32_128\n",
      "2023-08-06 13:04:08 DEBUG base_system {'stage': 'rules', 'instrument_code': 'EUROSTX'} Calculating raw forecast EUROSTX for ewmac32_128\n",
      "2023-08-06 13:04:08 DEBUG base_system {'stage': 'rawdata', 'instrument_code': 'EUROSTX'} Calculating daily prices for EUROSTX\n",
      "2023-08-06 13:04:08 DEBUG base_system {'stage': 'forecastScaleCap', 'instrument_code': 'MXP'} Calculating capped forecast for MXP ewmac32_128\n",
      "2023-08-06 13:04:08 DEBUG base_system {'stage': 'rules', 'instrument_code': 'MXP'} Calculating raw forecast MXP for ewmac32_128\n",
      "2023-08-06 13:04:08 DEBUG base_system {'stage': 'rawdata', 'instrument_code': 'MXP'} Calculating daily prices for MXP\n",
      "2023-08-06 13:04:08 DEBUG base_system {'stage': 'forecastScaleCap', 'instrument_code': 'US10'} Calculating capped forecast for US10 ewmac32_128\n",
      "2023-08-06 13:04:08 DEBUG base_system {'stage': 'rules', 'instrument_code': 'US10'} Calculating raw forecast US10 for ewmac32_128\n",
      "2023-08-06 13:04:08 DEBUG base_system {'stage': 'rawdata', 'instrument_code': 'US10'} Calculating daily prices for US10\n",
      "2023-08-06 13:04:08 DEBUG base_system {'stage': 'forecastScaleCap', 'instrument_code': 'V2X'} Calculating capped forecast for V2X ewmac32_128\n",
      "2023-08-06 13:04:08 DEBUG base_system {'stage': 'rules', 'instrument_code': 'V2X'} Calculating raw forecast V2X for ewmac32_128\n",
      "2023-08-06 13:04:08 DEBUG base_system {'stage': 'rawdata', 'instrument_code': 'V2X'} Calculating daily prices for V2X\n",
      "2023-08-06 13:04:08 DEBUG base_system {'stage': 'forecastScaleCap', 'instrument_code': 'EDOLLAR'} Calculating capped forecast for EDOLLAR ewmac64_256\n",
      "2023-08-06 13:04:08 DEBUG base_system {'stage': 'rules', 'instrument_code': 'EDOLLAR'} Calculating raw forecast EDOLLAR for ewmac64_256\n",
      "2023-08-06 13:04:08 DEBUG base_system {'stage': 'rawdata', 'instrument_code': 'EDOLLAR'} Calculating daily prices for EDOLLAR\n",
      "2023-08-06 13:04:08 DEBUG base_system {'stage': 'forecastScaleCap', 'instrument_code': 'EUROSTX'} Calculating capped forecast for EUROSTX ewmac64_256\n",
      "2023-08-06 13:04:08 DEBUG base_system {'stage': 'rules', 'instrument_code': 'EUROSTX'} Calculating raw forecast EUROSTX for ewmac64_256\n",
      "2023-08-06 13:04:08 DEBUG base_system {'stage': 'rawdata', 'instrument_code': 'EUROSTX'} Calculating daily prices for EUROSTX\n",
      "2023-08-06 13:04:08 DEBUG base_system {'stage': 'forecastScaleCap', 'instrument_code': 'MXP'} Calculating capped forecast for MXP ewmac64_256\n",
      "2023-08-06 13:04:08 DEBUG base_system {'stage': 'rules', 'instrument_code': 'MXP'} Calculating raw forecast MXP for ewmac64_256\n",
      "2023-08-06 13:04:08 DEBUG base_system {'stage': 'rawdata', 'instrument_code': 'MXP'} Calculating daily prices for MXP\n",
      "2023-08-06 13:04:08 DEBUG base_system {'stage': 'forecastScaleCap', 'instrument_code': 'US10'} Calculating capped forecast for US10 ewmac64_256\n",
      "2023-08-06 13:04:08 DEBUG base_system {'stage': 'rules', 'instrument_code': 'US10'} Calculating raw forecast US10 for ewmac64_256\n",
      "2023-08-06 13:04:08 DEBUG base_system {'stage': 'rawdata', 'instrument_code': 'US10'} Calculating daily prices for US10\n",
      "2023-08-06 13:04:08 DEBUG base_system {'stage': 'forecastScaleCap', 'instrument_code': 'V2X'} Calculating capped forecast for V2X ewmac64_256\n",
      "2023-08-06 13:04:08 DEBUG base_system {'stage': 'rules', 'instrument_code': 'V2X'} Calculating raw forecast V2X for ewmac64_256\n",
      "2023-08-06 13:04:08 DEBUG base_system {'stage': 'rawdata', 'instrument_code': 'V2X'} Calculating daily prices for V2X\n",
      "2023-08-06 13:04:08 DEBUG base_system {'stage': 'combForecast', 'instrument_code': 'CORN'} Only this set of rules ['carry', 'ewmac16_64', 'ewmac32_128', 'ewmac64_256'] is cheap enough to trade for CORN\n",
      "2023-08-06 13:04:08 DEBUG base_system {'stage': 'combForecast', 'instrument_code': 'CORN'} Non-nested dict of forecast weights for CORN {'ewmac16_64': 0.21, 'ewmac32_128': 0.08, 'ewmac64_256': 0.21, 'carry': 0.5}: weights the same for all instruments\n",
      "2023-08-06 13:04:09 DEBUG base_system {'stage': 'combForecast', 'instrument_code': 'CORN'} Using fixed FDM multiplier of 1.310 for CORN\n",
      "2023-08-06 13:04:09 DEBUG base_system {'stage': 'combForecast', 'instrument_code': 'CORN'} No mapping applied for CORN\n",
      "2023-08-06 13:04:09 DEBUG base_system {'stage': 'positionSize', 'instrument_code': 'EDOLLAR'} Calculating subsystem position for EDOLLAR\n",
      "2023-08-06 13:04:09 DEBUG base_system {'stage': 'positionSize', 'instrument_code': 'EDOLLAR'} Calculating volatility scalar for EDOLLAR\n",
      "2023-08-06 13:04:09 DEBUG base_system {'stage': 'positionSize', 'instrument_code': 'EDOLLAR'} Calculating instrument value vol for EDOLLAR\n",
      "2023-08-06 13:04:09 DEBUG base_system {'stage': 'positionSize', 'instrument_code': 'EDOLLAR'} Calculating instrument currency vol for EDOLLAR\n",
      "2023-08-06 13:04:09 DEBUG base_system {'stage': 'combForecast', 'instrument_code': 'EDOLLAR'} Calculating combined forecast for EDOLLAR\n",
      "2023-08-06 13:04:09 DEBUG base_system {'stage': 'combForecast', 'instrument_code': 'EDOLLAR'} Calculating forecast weights for EDOLLAR\n",
      "2023-08-06 13:04:09 DEBUG base_system {'stage': 'combForecast', 'instrument_code': 'EDOLLAR'} Only this set of rules ['carry', 'ewmac16_64', 'ewmac32_128', 'ewmac64_256'] is cheap enough to trade for EDOLLAR\n",
      "2023-08-06 13:04:09 DEBUG base_system {'stage': 'combForecast', 'instrument_code': 'EDOLLAR'} Non-nested dict of forecast weights for EDOLLAR {'ewmac16_64': 0.21, 'ewmac32_128': 0.08, 'ewmac64_256': 0.21, 'carry': 0.5}: weights the same for all instruments\n",
      "2023-08-06 13:04:09 DEBUG base_system {'stage': 'combForecast', 'instrument_code': 'EDOLLAR'} Using fixed FDM multiplier of 1.310 for EDOLLAR\n",
      "2023-08-06 13:04:09 DEBUG base_system {'stage': 'combForecast', 'instrument_code': 'EDOLLAR'} No mapping applied for EDOLLAR\n",
      "2023-08-06 13:04:09 DEBUG base_system {'stage': 'positionSize', 'instrument_code': 'EUROSTX'} Calculating subsystem position for EUROSTX\n",
      "2023-08-06 13:04:09 DEBUG base_system {'stage': 'positionSize', 'instrument_code': 'EUROSTX'} Calculating volatility scalar for EUROSTX\n",
      "2023-08-06 13:04:09 DEBUG base_system {'stage': 'positionSize', 'instrument_code': 'EUROSTX'} Calculating instrument value vol for EUROSTX\n",
      "2023-08-06 13:04:09 DEBUG base_system {'stage': 'positionSize', 'instrument_code': 'EUROSTX'} Calculating instrument currency vol for EUROSTX\n",
      "2023-08-06 13:04:09 DEBUG base_system {'stage': 'combForecast', 'instrument_code': 'EUROSTX'} Calculating combined forecast for EUROSTX\n",
      "2023-08-06 13:04:09 DEBUG base_system {'stage': 'combForecast', 'instrument_code': 'EUROSTX'} Calculating forecast weights for EUROSTX\n",
      "2023-08-06 13:04:09 DEBUG base_system {'stage': 'combForecast', 'instrument_code': 'EUROSTX'} Only this set of rules ['carry', 'ewmac16_64', 'ewmac32_128', 'ewmac64_256'] is cheap enough to trade for EUROSTX\n",
      "2023-08-06 13:04:09 DEBUG base_system {'stage': 'combForecast', 'instrument_code': 'EUROSTX'} Non-nested dict of forecast weights for EUROSTX {'ewmac16_64': 0.21, 'ewmac32_128': 0.08, 'ewmac64_256': 0.21, 'carry': 0.5}: weights the same for all instruments\n",
      "2023-08-06 13:04:09 DEBUG base_system {'stage': 'combForecast', 'instrument_code': 'EUROSTX'} Using fixed FDM multiplier of 1.310 for EUROSTX\n",
      "2023-08-06 13:04:09 DEBUG base_system {'stage': 'combForecast', 'instrument_code': 'EUROSTX'} No mapping applied for EUROSTX\n",
      "2023-08-06 13:04:09 DEBUG base_system {'stage': 'positionSize', 'instrument_code': 'MXP'} Calculating subsystem position for MXP\n",
      "2023-08-06 13:04:09 DEBUG base_system {'stage': 'positionSize', 'instrument_code': 'MXP'} Calculating volatility scalar for MXP\n",
      "2023-08-06 13:04:09 DEBUG base_system {'stage': 'positionSize', 'instrument_code': 'MXP'} Calculating instrument value vol for MXP\n",
      "2023-08-06 13:04:09 DEBUG base_system {'stage': 'positionSize', 'instrument_code': 'MXP'} Calculating instrument currency vol for MXP\n",
      "2023-08-06 13:04:09 DEBUG base_system {'stage': 'combForecast', 'instrument_code': 'MXP'} Calculating combined forecast for MXP\n",
      "2023-08-06 13:04:09 DEBUG base_system {'stage': 'combForecast', 'instrument_code': 'MXP'} Calculating forecast weights for MXP\n",
      "2023-08-06 13:04:09 DEBUG base_system {'stage': 'combForecast', 'instrument_code': 'MXP'} Only this set of rules ['carry', 'ewmac16_64', 'ewmac32_128', 'ewmac64_256'] is cheap enough to trade for MXP\n",
      "2023-08-06 13:04:09 DEBUG base_system {'stage': 'combForecast', 'instrument_code': 'MXP'} Non-nested dict of forecast weights for MXP {'ewmac16_64': 0.21, 'ewmac32_128': 0.08, 'ewmac64_256': 0.21, 'carry': 0.5}: weights the same for all instruments\n",
      "2023-08-06 13:04:09 DEBUG base_system {'stage': 'combForecast', 'instrument_code': 'MXP'} Using fixed FDM multiplier of 1.310 for MXP\n",
      "2023-08-06 13:04:09 DEBUG base_system {'stage': 'combForecast', 'instrument_code': 'MXP'} No mapping applied for MXP\n",
      "2023-08-06 13:04:09 DEBUG base_system {'stage': 'positionSize', 'instrument_code': 'US10'} Calculating subsystem position for US10\n",
      "2023-08-06 13:04:09 DEBUG base_system {'stage': 'positionSize', 'instrument_code': 'US10'} Calculating volatility scalar for US10\n",
      "2023-08-06 13:04:09 DEBUG base_system {'stage': 'positionSize', 'instrument_code': 'US10'} Calculating instrument value vol for US10\n",
      "2023-08-06 13:04:09 DEBUG base_system {'stage': 'positionSize', 'instrument_code': 'US10'} Calculating instrument currency vol for US10\n",
      "2023-08-06 13:04:09 DEBUG base_system {'stage': 'combForecast', 'instrument_code': 'US10'} Calculating combined forecast for US10\n",
      "2023-08-06 13:04:09 DEBUG base_system {'stage': 'combForecast', 'instrument_code': 'US10'} Calculating forecast weights for US10\n",
      "2023-08-06 13:04:09 DEBUG base_system {'stage': 'combForecast', 'instrument_code': 'US10'} Only this set of rules ['carry', 'ewmac16_64', 'ewmac32_128', 'ewmac64_256'] is cheap enough to trade for US10\n",
      "2023-08-06 13:04:09 DEBUG base_system {'stage': 'combForecast', 'instrument_code': 'US10'} Non-nested dict of forecast weights for US10 {'ewmac16_64': 0.21, 'ewmac32_128': 0.08, 'ewmac64_256': 0.21, 'carry': 0.5}: weights the same for all instruments\n",
      "2023-08-06 13:04:09 DEBUG base_system {'stage': 'combForecast', 'instrument_code': 'US10'} Using fixed FDM multiplier of 1.310 for US10\n",
      "2023-08-06 13:04:09 DEBUG base_system {'stage': 'combForecast', 'instrument_code': 'US10'} No mapping applied for US10\n",
      "2023-08-06 13:04:09 DEBUG base_system {'stage': 'positionSize', 'instrument_code': 'V2X'} Calculating subsystem position for V2X\n",
      "2023-08-06 13:04:09 DEBUG base_system {'stage': 'positionSize', 'instrument_code': 'V2X'} Calculating volatility scalar for V2X\n",
      "2023-08-06 13:04:09 DEBUG base_system {'stage': 'positionSize', 'instrument_code': 'V2X'} Calculating instrument value vol for V2X\n",
      "2023-08-06 13:04:09 DEBUG base_system {'stage': 'positionSize', 'instrument_code': 'V2X'} Calculating instrument currency vol for V2X\n",
      "2023-08-06 13:04:10 DEBUG base_system {'stage': 'combForecast', 'instrument_code': 'V2X'} Calculating combined forecast for V2X\n",
      "2023-08-06 13:04:10 DEBUG base_system {'stage': 'combForecast', 'instrument_code': 'V2X'} Calculating forecast weights for V2X\n",
      "2023-08-06 13:04:10 DEBUG base_system {'stage': 'combForecast', 'instrument_code': 'V2X'} Only this set of rules ['carry', 'ewmac16_64', 'ewmac32_128', 'ewmac64_256'] is cheap enough to trade for V2X\n",
      "2023-08-06 13:04:10 DEBUG base_system {'stage': 'combForecast', 'instrument_code': 'V2X'} Non-nested dict of forecast weights for V2X {'ewmac16_64': 0.21, 'ewmac32_128': 0.08, 'ewmac64_256': 0.21, 'carry': 0.5}: weights the same for all instruments\n",
      "2023-08-06 13:04:10 DEBUG base_system {'stage': 'combForecast', 'instrument_code': 'V2X'} Using fixed FDM multiplier of 1.310 for V2X\n",
      "2023-08-06 13:04:10 DEBUG base_system {'stage': 'combForecast', 'instrument_code': 'V2X'} No mapping applied for V2X\n",
      "2023-08-06 13:04:10 DEBUG base_system {'stage': 'portfolio', 'instrument_code': 'CORN'} Following instruments will have zero weight in optimisation of instrument weights as they have no positions (possibly too expensive?) []\n",
      "2023-08-06 13:04:10 INFO base_system {'stage': 'portfolio', 'instrument_code': 'CORN'} Using fixed diversification multiplier 1.890000\n",
      "2023-08-06 13:04:10 DEBUG base_system {'stage': 'portfolio', 'instrument_code': 'CORN'} No risk overlay in config: won't apply risk scaling\n",
      "2023-08-06 13:04:10 DEBUG base_system {'stage': 'portfolio', 'instrument_code': 'CORN'} Calculating buffers for CORN\n",
      "2023-08-06 13:04:10 DEBUG base_system {'stage': 'portfolio', 'instrument_code': 'CORN'} Calculating forecast method buffers for CORN\n",
      "2023-08-06 13:04:10 DEBUG base_system {'stage': 'accounts', 'instrument_code': 'CORN'} Calculating buffered positions\n",
      "2023-08-06 13:04:10 DEBUG base_system {'stage': 'accounts', 'instrument_code': 'CORN'} Calculating pandl for instrument for CORN\n",
      "2023-08-06 13:04:10 DEBUG base_system {'stage': 'accounts', 'instrument_code': 'EDOLLAR'} Calculating pandl for instrument for EDOLLAR\n",
      "2023-08-06 13:04:10 DEBUG base_system {'stage': 'portfolio', 'instrument_code': 'EDOLLAR'} Calculating notional position for EDOLLAR\n",
      "2023-08-06 13:04:10 DEBUG base_system {'stage': 'portfolio', 'instrument_code': 'EDOLLAR'} Calculating buffers for EDOLLAR\n",
      "2023-08-06 13:04:10 DEBUG base_system {'stage': 'portfolio', 'instrument_code': 'EDOLLAR'} Calculating forecast method buffers for EDOLLAR\n",
      "2023-08-06 13:04:10 DEBUG base_system {'stage': 'accounts', 'instrument_code': 'EDOLLAR'} Calculating buffered positions\n",
      "2023-08-06 13:04:10 DEBUG base_system {'stage': 'accounts', 'instrument_code': 'EDOLLAR'} Calculating pandl for instrument for EDOLLAR\n",
      "2023-08-06 13:04:10 DEBUG base_system {'stage': 'accounts', 'instrument_code': 'EUROSTX'} Calculating pandl for instrument for EUROSTX\n",
      "2023-08-06 13:04:10 DEBUG base_system {'stage': 'portfolio', 'instrument_code': 'EUROSTX'} Calculating notional position for EUROSTX\n",
      "2023-08-06 13:04:10 DEBUG base_system {'stage': 'portfolio', 'instrument_code': 'EUROSTX'} Calculating buffers for EUROSTX\n",
      "2023-08-06 13:04:10 DEBUG base_system {'stage': 'portfolio', 'instrument_code': 'EUROSTX'} Calculating forecast method buffers for EUROSTX\n",
      "2023-08-06 13:04:10 DEBUG base_system {'stage': 'accounts', 'instrument_code': 'EUROSTX'} Calculating buffered positions\n",
      "2023-08-06 13:04:10 DEBUG base_system {'stage': 'accounts', 'instrument_code': 'EUROSTX'} Calculating pandl for instrument for EUROSTX\n",
      "2023-08-06 13:04:10 DEBUG base_system {'stage': 'accounts', 'instrument_code': 'MXP'} Calculating pandl for instrument for MXP\n",
      "2023-08-06 13:04:10 DEBUG base_system {'stage': 'portfolio', 'instrument_code': 'MXP'} Calculating notional position for MXP\n",
      "2023-08-06 13:04:10 DEBUG base_system {'stage': 'portfolio', 'instrument_code': 'MXP'} Calculating buffers for MXP\n",
      "2023-08-06 13:04:10 DEBUG base_system {'stage': 'portfolio', 'instrument_code': 'MXP'} Calculating forecast method buffers for MXP\n",
      "2023-08-06 13:04:10 DEBUG base_system {'stage': 'accounts', 'instrument_code': 'MXP'} Calculating buffered positions\n",
      "2023-08-06 13:04:10 DEBUG base_system {'stage': 'accounts', 'instrument_code': 'MXP'} Calculating pandl for instrument for MXP\n",
      "2023-08-06 13:04:11 DEBUG base_system {'stage': 'accounts', 'instrument_code': 'US10'} Calculating pandl for instrument for US10\n",
      "2023-08-06 13:04:11 DEBUG base_system {'stage': 'portfolio', 'instrument_code': 'US10'} Calculating notional position for US10\n",
      "2023-08-06 13:04:11 DEBUG base_system {'stage': 'portfolio', 'instrument_code': 'US10'} Calculating buffers for US10\n",
      "2023-08-06 13:04:11 DEBUG base_system {'stage': 'portfolio', 'instrument_code': 'US10'} Calculating forecast method buffers for US10\n",
      "2023-08-06 13:04:11 DEBUG base_system {'stage': 'accounts', 'instrument_code': 'US10'} Calculating buffered positions\n",
      "2023-08-06 13:04:11 DEBUG base_system {'stage': 'accounts', 'instrument_code': 'US10'} Calculating pandl for instrument for US10\n",
      "2023-08-06 13:04:11 DEBUG base_system {'stage': 'accounts', 'instrument_code': 'V2X'} Calculating pandl for instrument for V2X\n",
      "2023-08-06 13:04:11 DEBUG base_system {'stage': 'portfolio', 'instrument_code': 'V2X'} Calculating notional position for V2X\n",
      "2023-08-06 13:04:11 DEBUG base_system {'stage': 'portfolio', 'instrument_code': 'V2X'} Calculating buffers for V2X\n",
      "2023-08-06 13:04:11 DEBUG base_system {'stage': 'portfolio', 'instrument_code': 'V2X'} Calculating forecast method buffers for V2X\n",
      "2023-08-06 13:04:11 DEBUG base_system {'stage': 'accounts', 'instrument_code': 'V2X'} Calculating buffered positions\n",
      "2023-08-06 13:04:11 DEBUG base_system {'stage': 'accounts', 'instrument_code': 'V2X'} Calculating pandl for instrument for V2X\n",
      "2023-08-06 13:04:12 DEBUG base_system {'stage': 'accounts', 'instrument_code': 'EDOLLAR'} Calculating pandl for instrument for EDOLLAR\n",
      "2023-08-06 13:04:12 DEBUG base_system {'stage': 'accounts', 'instrument_code': 'EDOLLAR'} Calculating pandl for instrument for EDOLLAR\n",
      "2023-08-06 13:04:12 DEBUG base_system {'stage': 'accounts', 'instrument_code': 'EDOLLAR'} Calculating pandl for instrument forecast for EDOLLAR sma7_14\n",
      "2023-08-06 13:04:12 DEBUG base_system {'stage': 'forecastScaleCap', 'instrument_code': 'EDOLLAR'} Calculating capped forecast for EDOLLAR sma7_14\n",
      "2023-08-06 13:04:12 DEBUG base_system {'stage': 'forecastScaleCap', 'instrument_code': 'CORN'} Calculating capped forecast for CORN sma7_14\n",
      "2023-08-06 13:04:12 DEBUG base_system {'stage': 'rules', 'instrument_code': 'CORN'} Calculating raw forecast CORN for sma7_14\n",
      "2023-08-06 13:04:12 DEBUG base_system {'stage': 'rawdata', 'instrument_code': 'CORN'} Calculating daily prices for CORN\n",
      "2023-08-06 13:04:12 DEBUG base_system {'stage': 'forecastScaleCap', 'instrument_code': 'EUROSTX'} Calculating capped forecast for EUROSTX sma7_14\n",
      "2023-08-06 13:04:12 DEBUG base_system {'stage': 'rules', 'instrument_code': 'EUROSTX'} Calculating raw forecast EUROSTX for sma7_14\n",
      "2023-08-06 13:04:12 DEBUG base_system {'stage': 'rawdata', 'instrument_code': 'EUROSTX'} Calculating daily prices for EUROSTX\n",
      "2023-08-06 13:04:12 DEBUG base_system {'stage': 'forecastScaleCap', 'instrument_code': 'MXP'} Calculating capped forecast for MXP sma7_14\n",
      "2023-08-06 13:04:12 DEBUG base_system {'stage': 'rules', 'instrument_code': 'MXP'} Calculating raw forecast MXP for sma7_14\n",
      "2023-08-06 13:04:12 DEBUG base_system {'stage': 'rawdata', 'instrument_code': 'MXP'} Calculating daily prices for MXP\n",
      "2023-08-06 13:04:12 DEBUG base_system {'stage': 'forecastScaleCap', 'instrument_code': 'US10'} Calculating capped forecast for US10 sma7_14\n",
      "2023-08-06 13:04:12 DEBUG base_system {'stage': 'rules', 'instrument_code': 'US10'} Calculating raw forecast US10 for sma7_14\n",
      "2023-08-06 13:04:12 DEBUG base_system {'stage': 'rawdata', 'instrument_code': 'US10'} Calculating daily prices for US10\n",
      "2023-08-06 13:04:12 DEBUG base_system {'stage': 'forecastScaleCap', 'instrument_code': 'V2X'} Calculating capped forecast for V2X sma7_14\n",
      "2023-08-06 13:04:12 DEBUG base_system {'stage': 'rules', 'instrument_code': 'V2X'} Calculating raw forecast V2X for sma7_14\n",
      "2023-08-06 13:04:12 DEBUG base_system {'stage': 'rawdata', 'instrument_code': 'V2X'} Calculating daily prices for V2X\n"
     ]
    },
    {
     "data": {
      "text/plain": [
       "0.42976481227687696"
      ]
     },
     "execution_count": 4,
     "metadata": {},
     "output_type": "execute_result"
    },
    {
     "data": {
      "image/png": "[encoded data removed]",
      "text/plain": [
       "<Figure size 640x480 with 1 Axes>"
      ]
     },
     "metadata": {},
     "output_type": "display_data"
    }
   ],
   "source": [
    "system.accounts.portfolio().stats() ## see some statistics\n",
    "system.accounts.portfolio().curve().plot() ## plot an account curve\n",
    "system.accounts.portfolio().percent.curve().plot() ## plot an account curve in percentage terms\n",
    "system.accounts.pandl_for_instrument(\"EDOLLAR\").percent.stats() ## produce % statistics for a 10 year bond\n",
    "system.accounts.pandl_for_instrument_forecast(\"EDOLLAR\", \"sma7_14\").sharpe() ## Sharpe for a specific trading rule variation"
   ]
  },
  {
   "cell_type": "code",
   "execution_count": 4,
   "metadata": {},
   "outputs": [
    {
     "name": "stdout",
     "output_type": "stream",
     "text": [
      "2023-08-07 14:37:05 DEBUG base_system {'stage': 'accounts', 'instrument_code': 'EDOLLAR'} Calculating pandl for instrument forecast for EDOLLAR sma7_14\n",
      "2023-08-07 14:37:05 DEBUG base_system {'stage': 'forecastScaleCap', 'instrument_code': 'EDOLLAR'} Calculating capped forecast for EDOLLAR sma7_14\n",
      "2023-08-07 14:37:05 DEBUG base_system {'stage': 'forecastScaleCap', 'instrument_code': 'CORN'} Calculating capped forecast for CORN sma7_14\n",
      "2023-08-07 14:37:05 DEBUG base_system {'stage': 'rules', 'instrument_code': 'CORN'} Calculating raw forecast CORN for sma7_14\n",
      "2023-08-07 14:37:05 DEBUG base_system {'stage': 'rawdata', 'instrument_code': 'CORN'} Calculating daily prices for CORN\n",
      "index\n",
      "1972-10-18    10\n",
      "1972-10-19    10\n",
      "1972-10-20    10\n",
      "1972-10-23    10\n",
      "1972-10-24    10\n",
      "              ..\n",
      "2022-12-26    10\n",
      "2022-12-27    10\n",
      "2022-12-28    10\n",
      "2022-12-29    10\n",
      "2022-12-30    10\n",
      "Freq: B, Length: 13098, dtype: int64\n",
      "2023-08-07 14:37:06 DEBUG base_system {'stage': 'forecastScaleCap', 'instrument_code': 'EUROSTX'} Calculating capped forecast for EUROSTX sma7_14\n",
      "2023-08-07 14:37:06 DEBUG base_system {'stage': 'rules', 'instrument_code': 'EUROSTX'} Calculating raw forecast EUROSTX for sma7_14\n",
      "2023-08-07 14:37:06 DEBUG base_system {'stage': 'rawdata', 'instrument_code': 'EUROSTX'} Calculating daily prices for EUROSTX\n",
      "index\n",
      "2014-03-13    10\n",
      "2014-03-14    10\n",
      "2014-03-17    10\n",
      "2014-03-18    10\n",
      "2014-03-19    10\n",
      "              ..\n",
      "2022-12-26    10\n",
      "2022-12-27    10\n",
      "2022-12-28    10\n",
      "2022-12-29    10\n",
      "2022-12-30    10\n",
      "Freq: B, Length: 2297, dtype: int64\n",
      "2023-08-07 14:37:06 DEBUG base_system {'stage': 'forecastScaleCap', 'instrument_code': 'MXP'} Calculating capped forecast for MXP sma7_14\n",
      "2023-08-07 14:37:06 DEBUG base_system {'stage': 'rules', 'instrument_code': 'MXP'} Calculating raw forecast MXP for sma7_14\n",
      "2023-08-07 14:37:06 DEBUG base_system {'stage': 'rawdata', 'instrument_code': 'MXP'} Calculating daily prices for MXP\n",
      "index\n",
      "1995-09-15    10\n",
      "1995-09-18    10\n",
      "1995-09-19    10\n",
      "1995-09-20    10\n",
      "1995-09-21    10\n",
      "              ..\n",
      "2022-12-26    10\n",
      "2022-12-27    10\n",
      "2022-12-28    10\n",
      "2022-12-29    10\n",
      "2022-12-30    10\n",
      "Freq: B, Length: 7121, dtype: int64\n",
      "2023-08-07 14:37:06 DEBUG base_system {'stage': 'forecastScaleCap', 'instrument_code': 'US10'} Calculating capped forecast for US10 sma7_14\n",
      "2023-08-07 14:37:06 DEBUG base_system {'stage': 'rules', 'instrument_code': 'US10'} Calculating raw forecast US10 for sma7_14\n",
      "2023-08-07 14:37:06 DEBUG base_system {'stage': 'rawdata', 'instrument_code': 'US10'} Calculating daily prices for US10\n",
      "index\n",
      "1982-08-30    10\n",
      "1982-08-31    10\n",
      "1982-09-01    10\n",
      "1982-09-02    10\n",
      "1982-09-03    10\n",
      "              ..\n",
      "2022-12-22    10\n",
      "2022-12-23    10\n",
      "2022-12-26    10\n",
      "2022-12-27    10\n",
      "2022-12-28    10\n",
      "Freq: B, Length: 10523, dtype: int64\n",
      "2023-08-07 14:37:06 DEBUG base_system {'stage': 'forecastScaleCap', 'instrument_code': 'V2X'} Calculating capped forecast for V2X sma7_14\n",
      "2023-08-07 14:37:06 DEBUG base_system {'stage': 'rules', 'instrument_code': 'V2X'} Calculating raw forecast V2X for sma7_14\n",
      "2023-08-07 14:37:06 DEBUG base_system {'stage': 'rawdata', 'instrument_code': 'V2X'} Calculating daily prices for V2X\n",
      "index\n",
      "2013-01-02    10\n",
      "2013-01-03    10\n",
      "2013-01-04    10\n",
      "2013-01-07    10\n",
      "2013-01-08    10\n",
      "              ..\n",
      "2022-12-22    10\n",
      "2022-12-23    10\n",
      "2022-12-26    10\n",
      "2022-12-27    10\n",
      "2022-12-28    10\n",
      "Freq: B, Length: 2606, dtype: int64\n"
     ]
    },
    {
     "data": {
      "text/plain": [
       "0.4773370205504481"
      ]
     },
     "execution_count": 4,
     "metadata": {},
     "output_type": "execute_result"
    }
   ],
   "source": [
    "system.accounts.pandl_for_instrument_forecast(\"EDOLLAR\", \"sma7_14\").sharpe() ## Sharpe for a specific trading rule variation"
   ]
  },
  {
   "cell_type": "code",
   "execution_count": 5,
   "metadata": {},
   "outputs": [
    {
     "data": {
      "text/plain": [
       "[[('min', '-7.329e+04'),\n",
       "  ('max', '4.95e+04'),\n",
       "  ('median', '38.15'),\n",
       "  ('mean', '151.1'),\n",
       "  ('std', '5128'),\n",
       "  ('skew', '-0.1073'),\n",
       "  ('ann_mean', '3.869e+04'),\n",
       "  ('ann_std', '8.205e+04'),\n",
       "  ('sharpe', '0.4715'),\n",
       "  ('sortino', '0.6254'),\n",
       "  ('avg_drawdown', '-1.078e+05'),\n",
       "  ('time_in_drawdown', '0.9676'),\n",
       "  ('calmar', '0.08888'),\n",
       "  ('avg_return_to_drawdown', '0.3589'),\n",
       "  ('avg_loss', '-3463'),\n",
       "  ('avg_gain', '3542'),\n",
       "  ('gaintolossratio', '1.023'),\n",
       "  ('profitfactor', '1.093'),\n",
       "  ('hitrate', '0.5165'),\n",
       "  ('t_stat', '3.373'),\n",
       "  ('p_value', '0.0007464')],\n",
       " ('You can also plot / print:',\n",
       "  ['rolling_ann_std', 'drawdown', 'curve', 'percent'])]"
      ]
     },
     "execution_count": 5,
     "metadata": {},
     "output_type": "execute_result"
    }
   ],
   "source": [
    "system.accounts.portfolio().stats() ## see some statistics"
   ]
  },
  {
   "cell_type": "code",
   "execution_count": 8,
   "metadata": {},
   "outputs": [
    {
     "data": {
      "text/plain": [
       "<Axes: >"
      ]
     },
     "execution_count": 8,
     "metadata": {},
     "output_type": "execute_result"
    },
    {
     "data": {
      "image/png": "[encoded data removed]",
      "text/plain": [
       "<Figure size 640x480 with 1 Axes>"
      ]
     },
     "metadata": {},
     "output_type": "display_data"
    }
   ],
   "source": [
    "system.accounts.portfolio(\"EDOLLAR\", \"sma7_14\").curve().plot() ## plot an account curve"
   ]
  },
  {
   "cell_type": "code",
   "execution_count": 7,
   "metadata": {},
   "outputs": [
    {
     "name": "stdout",
     "output_type": "stream",
     "text": [
      "2023-08-07 14:37:50 INFO base_system {'stage': 'accounts', 'instrument_code': 'V2X'} Calculating pandl for portfolio\n",
      "2023-08-07 14:37:50 DEBUG base_system {'stage': 'accounts', 'instrument_code': 'CORN'} Calculating pandl for instrument for CORN\n",
      "2023-08-07 14:37:50 DEBUG base_system {'stage': 'accounts', 'instrument_code': 'CORN'} Calculating pandl for instrument for CORN\n",
      "2023-08-07 14:37:51 DEBUG base_system {'stage': 'accounts', 'instrument_code': 'EDOLLAR'} Calculating pandl for instrument for EDOLLAR\n",
      "2023-08-07 14:37:51 DEBUG base_system {'stage': 'accounts', 'instrument_code': 'EDOLLAR'} Calculating pandl for instrument for EDOLLAR\n",
      "2023-08-07 14:37:51 DEBUG base_system {'stage': 'accounts', 'instrument_code': 'EUROSTX'} Calculating pandl for instrument for EUROSTX\n",
      "2023-08-07 14:37:51 DEBUG base_system {'stage': 'accounts', 'instrument_code': 'EUROSTX'} Calculating pandl for instrument for EUROSTX\n",
      "2023-08-07 14:37:51 DEBUG base_system {'stage': 'accounts', 'instrument_code': 'MXP'} Calculating pandl for instrument for MXP\n",
      "2023-08-07 14:37:51 DEBUG base_system {'stage': 'accounts', 'instrument_code': 'MXP'} Calculating pandl for instrument for MXP\n",
      "2023-08-07 14:37:51 DEBUG base_system {'stage': 'accounts', 'instrument_code': 'US10'} Calculating pandl for instrument for US10\n",
      "2023-08-07 14:37:51 DEBUG base_system {'stage': 'accounts', 'instrument_code': 'US10'} Calculating pandl for instrument for US10\n",
      "2023-08-07 14:37:51 DEBUG base_system {'stage': 'accounts', 'instrument_code': 'V2X'} Calculating pandl for instrument for V2X\n",
      "2023-08-07 14:37:51 DEBUG base_system {'stage': 'accounts', 'instrument_code': 'V2X'} Calculating pandl for instrument for V2X\n"
     ]
    },
    {
     "data": {
      "text/plain": [
       "<Axes: >"
      ]
     },
     "execution_count": 7,
     "metadata": {},
     "output_type": "execute_result"
    },
    {
     "data": {
      "image/png": "[encoded data removed]",
      "text/plain": [
       "<Figure size 640x480 with 1 Axes>"
      ]
     },
     "metadata": {},
     "output_type": "display_data"
    }
   ],
   "source": [
    "system.accounts.portfolio(\"SP500\", \"sma7_14\").curve().plot() ## plot an account curve"
   ]
  },
  {
   "cell_type": "code",
   "execution_count": 16,
   "metadata": {},
   "outputs": [],
   "source": [
    "from sysdata.data_blob import dataBlob"
   ]
  },
  {
   "cell_type": "code",
   "execution_count": 20,
   "metadata": {},
   "outputs": [],
   "source": [
    "from sysdata.arctic.arctic_futures_per_contract_prices import arcticFuturesContractPriceData\n",
    "from sysdata.mongodb.mongo_futures_contracts import mongoFuturesContractData\n"
   ]
  },
  {
   "cell_type": "code",
   "execution_count": 21,
   "metadata": {},
   "outputs": [
    {
     "name": "stdout",
     "output_type": "stream",
     "text": [
      "2023-08-06 13:29:54 CRITICAL root Error 127.0.0.1:27017: [Errno 111] Connection refused, Timeout: 30s, Topology Description: <TopologyDescription id: 64cf4b677b6c5d0ab78bbf95, topology_type: Single, servers: [<ServerDescription ('127.0.0.1', 27017) server_type: Unknown, rtt: None, error=AutoReconnect('127.0.0.1:27017: [Errno 111] Connection refused')>]> couldn't evaluate arcticFuturesContractPriceData(mongo_db=self.mongo_db, log = self.log.setup(component = arcticFuturesContractPriceData))                         This might be because import is missing                         or arguments don't follow pattern\n"
     ]
    },
    {
     "ename": "Exception",
     "evalue": "Error 127.0.0.1:27017: [Errno 111] Connection refused, Timeout: 30s, Topology Description: <TopologyDescription id: 64cf4b677b6c5d0ab78bbf95, topology_type: Single, servers: [<ServerDescription ('127.0.0.1', 27017) server_type: Unknown, rtt: None, error=AutoReconnect('127.0.0.1:27017: [Errno 111] Connection refused')>]> couldn't evaluate arcticFuturesContractPriceData(mongo_db=self.mongo_db, log = self.log.setup(component = arcticFuturesContractPriceData))                         This might be because import is missing                         or arguments don't follow pattern",
     "output_type": "error",
     "traceback": [
      "\u001b[0;31m---------------------------------------------------------------------------\u001b[0m",
      "\u001b[0;31mServerSelectionTimeoutError\u001b[0m               Traceback (most recent call last)",
      "File \u001b[0;32m~/Documents/pysystemtrade/sysdata/data_blob.py:156\u001b[0m, in \u001b[0;36mdataBlob._add_arctic_class\u001b[0;34m(self, class_object)\u001b[0m\n\u001b[1;32m    155\u001b[0m \u001b[39mtry\u001b[39;00m:\n\u001b[0;32m--> 156\u001b[0m     resolved_instance \u001b[39m=\u001b[39m class_object(mongo_db\u001b[39m=\u001b[39;49m\u001b[39mself\u001b[39;49m\u001b[39m.\u001b[39;49mmongo_db, log\u001b[39m=\u001b[39;49mlog)\n\u001b[1;32m    157\u001b[0m \u001b[39mexcept\u001b[39;00m \u001b[39mException\u001b[39;00m \u001b[39mas\u001b[39;00m e:\n",
      "File \u001b[0;32m~/Documents/pysystemtrade/sysdata/arctic/arctic_futures_per_contract_prices.py:31\u001b[0m, in \u001b[0;36marcticFuturesContractPriceData.__init__\u001b[0;34m(self, mongo_db, log)\u001b[0m\n\u001b[1;32m     29\u001b[0m \u001b[39msuper\u001b[39m()\u001b[39m.\u001b[39m\u001b[39m__init__\u001b[39m(log\u001b[39m=\u001b[39mlog)\n\u001b[0;32m---> 31\u001b[0m \u001b[39mself\u001b[39m\u001b[39m.\u001b[39m_arctic_connection \u001b[39m=\u001b[39m arcticData(CONTRACT_COLLECTION, mongo_db\u001b[39m=\u001b[39;49mmongo_db)\n",
      "File \u001b[0;32m~/Documents/pysystemtrade/sysdata/arctic/arctic_connection.py:30\u001b[0m, in \u001b[0;36marcticData.__init__\u001b[0;34m(self, collection_name, mongo_db)\u001b[0m\n\u001b[1;32m     28\u001b[0m \u001b[39m# Arctic doesn't accept a port\u001b[39;00m\n\u001b[0;32m---> 30\u001b[0m store \u001b[39m=\u001b[39m Arctic(client)\n\u001b[1;32m     32\u001b[0m \u001b[39mself\u001b[39m\u001b[39m.\u001b[39mdatabase_name \u001b[39m=\u001b[39m database_name\n",
      "File \u001b[0;32m~/anaconda3/envs/pysys/lib/python3.8/site-packages/arctic/arctic.py:125\u001b[0m, in \u001b[0;36mArctic.__init__\u001b[0;34m(self, mongo_host, app_name, allow_secondary, socketTimeoutMS, connectTimeoutMS, serverSelectionTimeoutMS, **kwargs)\u001b[0m\n\u001b[1;32m    124\u001b[0m \u001b[39m# Workaround for: https://jira.mongodb.org/browse/PYTHON-927\u001b[39;00m\n\u001b[0;32m--> 125\u001b[0m mongo_host\u001b[39m.\u001b[39;49mserver_info()\n\u001b[1;32m    126\u001b[0m \u001b[39mself\u001b[39m\u001b[39m.\u001b[39mmongo_host \u001b[39m=\u001b[39m \u001b[39m\"\u001b[39m\u001b[39m,\u001b[39m\u001b[39m\"\u001b[39m\u001b[39m.\u001b[39mjoin([\u001b[39m\"\u001b[39m\u001b[39m{}\u001b[39;00m\u001b[39m:\u001b[39m\u001b[39m{}\u001b[39;00m\u001b[39m\"\u001b[39m\u001b[39m.\u001b[39mformat(x[\u001b[39m0\u001b[39m], x[\u001b[39m1\u001b[39m]) \u001b[39mfor\u001b[39;00m x \u001b[39min\u001b[39;00m mongo_host\u001b[39m.\u001b[39mnodes])\n",
      "File \u001b[0;32m~/anaconda3/envs/pysys/lib/python3.8/site-packages/pymongo/mongo_client.py:1872\u001b[0m, in \u001b[0;36mMongoClient.server_info\u001b[0;34m(self, session)\u001b[0m\n\u001b[1;32m   1863\u001b[0m \u001b[39m\u001b[39m\u001b[39m\"\"\"Get information about the MongoDB server we're connected to.\u001b[39;00m\n\u001b[1;32m   1864\u001b[0m \n\u001b[1;32m   1865\u001b[0m \u001b[39m:Parameters:\u001b[39;00m\n\u001b[0;32m   (...)\u001b[0m\n\u001b[1;32m   1870\u001b[0m \u001b[39m   Added ``session`` parameter.\u001b[39;00m\n\u001b[1;32m   1871\u001b[0m \u001b[39m\"\"\"\u001b[39;00m\n\u001b[0;32m-> 1872\u001b[0m \u001b[39mreturn\u001b[39;00m \u001b[39mself\u001b[39;49m\u001b[39m.\u001b[39;49madmin\u001b[39m.\u001b[39;49mcommand(\u001b[39m\"\u001b[39;49m\u001b[39mbuildinfo\u001b[39;49m\u001b[39m\"\u001b[39;49m,\n\u001b[1;32m   1873\u001b[0m                           read_preference\u001b[39m=\u001b[39;49mReadPreference\u001b[39m.\u001b[39;49mPRIMARY,\n\u001b[1;32m   1874\u001b[0m                           session\u001b[39m=\u001b[39;49msession)\n",
      "File \u001b[0;32m~/anaconda3/envs/pysys/lib/python3.8/site-packages/pymongo/database.py:736\u001b[0m, in \u001b[0;36mDatabase.command\u001b[0;34m(self, command, value, check, allowable_errors, read_preference, codec_options, session, **kwargs)\u001b[0m\n\u001b[1;32m    734\u001b[0m     read_preference \u001b[39m=\u001b[39m ((session \u001b[39mand\u001b[39;00m session\u001b[39m.\u001b[39m_txn_read_preference())\n\u001b[1;32m    735\u001b[0m                        \u001b[39mor\u001b[39;00m ReadPreference\u001b[39m.\u001b[39mPRIMARY)\n\u001b[0;32m--> 736\u001b[0m \u001b[39mwith\u001b[39;00m \u001b[39mself\u001b[39m\u001b[39m.\u001b[39m__client\u001b[39m.\u001b[39m_socket_for_reads(\n\u001b[1;32m    737\u001b[0m         read_preference, session) \u001b[39mas\u001b[39;00m (sock_info, slave_ok):\n\u001b[1;32m    738\u001b[0m     \u001b[39mreturn\u001b[39;00m \u001b[39mself\u001b[39m\u001b[39m.\u001b[39m_command(sock_info, command, slave_ok, value,\n\u001b[1;32m    739\u001b[0m                          check, allowable_errors, read_preference,\n\u001b[1;32m    740\u001b[0m                          codec_options, session\u001b[39m=\u001b[39msession, \u001b[39m*\u001b[39m\u001b[39m*\u001b[39mkwargs)\n",
      "File \u001b[0;32m~/anaconda3/envs/pysys/lib/python3.8/contextlib.py:113\u001b[0m, in \u001b[0;36m_GeneratorContextManager.__enter__\u001b[0;34m(self)\u001b[0m\n\u001b[1;32m    112\u001b[0m \u001b[39mtry\u001b[39;00m:\n\u001b[0;32m--> 113\u001b[0m     \u001b[39mreturn\u001b[39;00m \u001b[39mnext\u001b[39;49m(\u001b[39mself\u001b[39;49m\u001b[39m.\u001b[39;49mgen)\n\u001b[1;32m    114\u001b[0m \u001b[39mexcept\u001b[39;00m \u001b[39mStopIteration\u001b[39;00m:\n",
      "File \u001b[0;32m~/anaconda3/envs/pysys/lib/python3.8/site-packages/pymongo/mongo_client.py:1325\u001b[0m, in \u001b[0;36mMongoClient._socket_for_reads\u001b[0;34m(self, read_preference, session)\u001b[0m\n\u001b[1;32m   1324\u001b[0m single \u001b[39m=\u001b[39m topology\u001b[39m.\u001b[39mdescription\u001b[39m.\u001b[39mtopology_type \u001b[39m==\u001b[39m TOPOLOGY_TYPE\u001b[39m.\u001b[39mSingle\n\u001b[0;32m-> 1325\u001b[0m server \u001b[39m=\u001b[39m \u001b[39mself\u001b[39;49m\u001b[39m.\u001b[39;49m_select_server(read_preference, session)\n\u001b[1;32m   1327\u001b[0m \u001b[39mwith\u001b[39;00m \u001b[39mself\u001b[39m\u001b[39m.\u001b[39m_get_socket(server, session) \u001b[39mas\u001b[39;00m sock_info:\n",
      "File \u001b[0;32m~/anaconda3/envs/pysys/lib/python3.8/site-packages/pymongo/mongo_client.py:1278\u001b[0m, in \u001b[0;36mMongoClient._select_server\u001b[0;34m(self, server_selector, session, address)\u001b[0m\n\u001b[1;32m   1277\u001b[0m \u001b[39melse\u001b[39;00m:\n\u001b[0;32m-> 1278\u001b[0m     server \u001b[39m=\u001b[39m topology\u001b[39m.\u001b[39;49mselect_server(server_selector)\n\u001b[1;32m   1279\u001b[0m     \u001b[39m# Pin this session to the selected server if it's performing a\u001b[39;00m\n\u001b[1;32m   1280\u001b[0m     \u001b[39m# sharded transaction.\u001b[39;00m\n",
      "File \u001b[0;32m~/anaconda3/envs/pysys/lib/python3.8/site-packages/pymongo/topology.py:241\u001b[0m, in \u001b[0;36mTopology.select_server\u001b[0;34m(self, selector, server_selection_timeout, address)\u001b[0m\n\u001b[1;32m    240\u001b[0m \u001b[39m\u001b[39m\u001b[39m\"\"\"Like select_servers, but choose a random server if several match.\"\"\"\u001b[39;00m\n\u001b[0;32m--> 241\u001b[0m \u001b[39mreturn\u001b[39;00m random\u001b[39m.\u001b[39mchoice(\u001b[39mself\u001b[39;49m\u001b[39m.\u001b[39;49mselect_servers(selector,\n\u001b[1;32m    242\u001b[0m                                          server_selection_timeout,\n\u001b[1;32m    243\u001b[0m                                          address))\n",
      "File \u001b[0;32m~/anaconda3/envs/pysys/lib/python3.8/site-packages/pymongo/topology.py:199\u001b[0m, in \u001b[0;36mTopology.select_servers\u001b[0;34m(self, selector, server_selection_timeout, address)\u001b[0m\n\u001b[1;32m    198\u001b[0m \u001b[39mwith\u001b[39;00m \u001b[39mself\u001b[39m\u001b[39m.\u001b[39m_lock:\n\u001b[0;32m--> 199\u001b[0m     server_descriptions \u001b[39m=\u001b[39m \u001b[39mself\u001b[39;49m\u001b[39m.\u001b[39;49m_select_servers_loop(\n\u001b[1;32m    200\u001b[0m         selector, server_timeout, address)\n\u001b[1;32m    202\u001b[0m     \u001b[39mreturn\u001b[39;00m [\u001b[39mself\u001b[39m\u001b[39m.\u001b[39mget_server_by_address(sd\u001b[39m.\u001b[39maddress)\n\u001b[1;32m    203\u001b[0m             \u001b[39mfor\u001b[39;00m sd \u001b[39min\u001b[39;00m server_descriptions]\n",
      "File \u001b[0;32m~/anaconda3/envs/pysys/lib/python3.8/site-packages/pymongo/topology.py:215\u001b[0m, in \u001b[0;36mTopology._select_servers_loop\u001b[0;34m(self, selector, timeout, address)\u001b[0m\n\u001b[1;32m    214\u001b[0m \u001b[39mif\u001b[39;00m timeout \u001b[39m==\u001b[39m \u001b[39m0\u001b[39m \u001b[39mor\u001b[39;00m now \u001b[39m>\u001b[39m end_time:\n\u001b[0;32m--> 215\u001b[0m     \u001b[39mraise\u001b[39;00m ServerSelectionTimeoutError(\n\u001b[1;32m    216\u001b[0m         \u001b[39m\"\u001b[39m\u001b[39m%s\u001b[39;00m\u001b[39m, Timeout: \u001b[39m\u001b[39m%s\u001b[39;00m\u001b[39ms, Topology Description: \u001b[39m\u001b[39m%r\u001b[39;00m\u001b[39m\"\u001b[39m \u001b[39m%\u001b[39m\n\u001b[1;32m    217\u001b[0m         (\u001b[39mself\u001b[39m\u001b[39m.\u001b[39m_error_message(selector), timeout, \u001b[39mself\u001b[39m\u001b[39m.\u001b[39mdescription))\n\u001b[1;32m    219\u001b[0m \u001b[39mself\u001b[39m\u001b[39m.\u001b[39m_ensure_opened()\n",
      "\u001b[0;31mServerSelectionTimeoutError\u001b[0m: 127.0.0.1:27017: [Errno 111] Connection refused, Timeout: 30s, Topology Description: <TopologyDescription id: 64cf4b677b6c5d0ab78bbf95, topology_type: Single, servers: [<ServerDescription ('127.0.0.1', 27017) server_type: Unknown, rtt: None, error=AutoReconnect('127.0.0.1:27017: [Errno 111] Connection refused')>]>",
      "\nDuring handling of the above exception, another exception occurred:\n",
      "\u001b[0;31mException\u001b[0m                                 Traceback (most recent call last)",
      "Cell \u001b[0;32mIn[21], line 1\u001b[0m\n\u001b[0;32m----> 1\u001b[0m data \u001b[39m=\u001b[39m dataBlob([arcticFuturesContractPriceData, arcticFuturesContractPriceData, mongoFuturesContractData])\n",
      "File \u001b[0;32m~/Documents/pysystemtrade/sysdata/data_blob.py:73\u001b[0m, in \u001b[0;36mdataBlob.__init__\u001b[0;34m(self, class_list, log_name, csv_data_paths, ib_conn, mongo_db, log, keep_original_prefix)\u001b[0m\n\u001b[1;32m     71\u001b[0m     \u001b[39mpass\u001b[39;00m\n\u001b[1;32m     72\u001b[0m \u001b[39melse\u001b[39;00m:\n\u001b[0;32m---> 73\u001b[0m     \u001b[39mself\u001b[39;49m\u001b[39m.\u001b[39;49madd_class_list(class_list)\n\u001b[1;32m     75\u001b[0m \u001b[39mself\u001b[39m\u001b[39m.\u001b[39m_original_data \u001b[39m=\u001b[39m copy(\u001b[39mself\u001b[39m)\n",
      "File \u001b[0;32m~/Documents/pysystemtrade/sysdata/data_blob.py:82\u001b[0m, in \u001b[0;36mdataBlob.add_class_list\u001b[0;34m(self, class_list)\u001b[0m\n\u001b[1;32m     80\u001b[0m \u001b[39mdef\u001b[39;00m \u001b[39madd_class_list\u001b[39m(\u001b[39mself\u001b[39m, class_list: \u001b[39mlist\u001b[39m):\n\u001b[1;32m     81\u001b[0m     \u001b[39mfor\u001b[39;00m class_object \u001b[39min\u001b[39;00m class_list:\n\u001b[0;32m---> 82\u001b[0m         \u001b[39mself\u001b[39;49m\u001b[39m.\u001b[39;49madd_class_object(class_object)\n",
      "File \u001b[0;32m~/Documents/pysystemtrade/sysdata/data_blob.py:88\u001b[0m, in \u001b[0;36mdataBlob.add_class_object\u001b[0;34m(self, class_object)\u001b[0m\n\u001b[1;32m     86\u001b[0m attr_name \u001b[39m=\u001b[39m \u001b[39mself\u001b[39m\u001b[39m.\u001b[39m_get_new_name(class_name)\n\u001b[1;32m     87\u001b[0m \u001b[39mif\u001b[39;00m \u001b[39mnot\u001b[39;00m \u001b[39mself\u001b[39m\u001b[39m.\u001b[39m_already_existing_class_name(attr_name):\n\u001b[0;32m---> 88\u001b[0m     resolved_instance \u001b[39m=\u001b[39m \u001b[39mself\u001b[39;49m\u001b[39m.\u001b[39;49m_get_resolved_instance_of_class(class_object)\n\u001b[1;32m     89\u001b[0m     \u001b[39mself\u001b[39m\u001b[39m.\u001b[39m_resolve_names_and_add(resolved_instance, class_name)\n",
      "File \u001b[0;32m~/Documents/pysystemtrade/sysdata/data_blob.py:93\u001b[0m, in \u001b[0;36mdataBlob._get_resolved_instance_of_class\u001b[0;34m(self, class_object)\u001b[0m\n\u001b[1;32m     91\u001b[0m \u001b[39mdef\u001b[39;00m \u001b[39m_get_resolved_instance_of_class\u001b[39m(\u001b[39mself\u001b[39m, class_object):\n\u001b[1;32m     92\u001b[0m     class_adding_method \u001b[39m=\u001b[39m \u001b[39mself\u001b[39m\u001b[39m.\u001b[39m_get_class_adding_method(class_object)\n\u001b[0;32m---> 93\u001b[0m     resolved_instance \u001b[39m=\u001b[39m class_adding_method(class_object)\n\u001b[1;32m     95\u001b[0m     \u001b[39mreturn\u001b[39;00m resolved_instance\n",
      "File \u001b[0;32m~/Documents/pysystemtrade/sysdata/data_blob.py:165\u001b[0m, in \u001b[0;36mdataBlob._add_arctic_class\u001b[0;34m(self, class_object)\u001b[0m\n\u001b[1;32m    158\u001b[0m     class_name \u001b[39m=\u001b[39m get_class_name(class_object)\n\u001b[1;32m    159\u001b[0m     msg \u001b[39m=\u001b[39m (\n\u001b[1;32m    160\u001b[0m         \u001b[39m\"\u001b[39m\u001b[39mError \u001b[39m\u001b[39m%s\u001b[39;00m\u001b[39m couldn\u001b[39m\u001b[39m'\u001b[39m\u001b[39mt evaluate \u001b[39m\u001b[39m%s\u001b[39;00m\u001b[39m(mongo_db=self.mongo_db, log = self.log.setup(component = \u001b[39m\u001b[39m%s\u001b[39;00m\u001b[39m)) \u001b[39m\u001b[39m\\\u001b[39;00m\n\u001b[1;32m    161\u001b[0m \u001b[39m                This might be because import is missing\u001b[39m\u001b[39m\\\u001b[39;00m\n\u001b[1;32m    162\u001b[0m \u001b[39m                 or arguments don\u001b[39m\u001b[39m'\u001b[39m\u001b[39mt follow pattern\u001b[39m\u001b[39m\"\u001b[39m\n\u001b[1;32m    163\u001b[0m         \u001b[39m%\u001b[39m (\u001b[39mstr\u001b[39m(e), class_name, class_name)\n\u001b[1;32m    164\u001b[0m     )\n\u001b[0;32m--> 165\u001b[0m     \u001b[39mself\u001b[39;49m\u001b[39m.\u001b[39;49m_raise_and_log_error(msg)\n\u001b[1;32m    167\u001b[0m \u001b[39mreturn\u001b[39;00m resolved_instance\n",
      "File \u001b[0;32m~/Documents/pysystemtrade/sysdata/data_blob.py:327\u001b[0m, in \u001b[0;36mdataBlob._raise_and_log_error\u001b[0;34m(self, error_msg)\u001b[0m\n\u001b[1;32m    325\u001b[0m \u001b[39mdef\u001b[39;00m \u001b[39m_raise_and_log_error\u001b[39m(\u001b[39mself\u001b[39m, error_msg: \u001b[39mstr\u001b[39m):\n\u001b[1;32m    326\u001b[0m     \u001b[39mself\u001b[39m\u001b[39m.\u001b[39mlog\u001b[39m.\u001b[39mcritical(error_msg)\n\u001b[0;32m--> 327\u001b[0m     \u001b[39mraise\u001b[39;00m \u001b[39mException\u001b[39;00m(error_msg)\n",
      "\u001b[0;31mException\u001b[0m: Error 127.0.0.1:27017: [Errno 111] Connection refused, Timeout: 30s, Topology Description: <TopologyDescription id: 64cf4b677b6c5d0ab78bbf95, topology_type: Single, servers: [<ServerDescription ('127.0.0.1', 27017) server_type: Unknown, rtt: None, error=AutoReconnect('127.0.0.1:27017: [Errno 111] Connection refused')>]> couldn't evaluate arcticFuturesContractPriceData(mongo_db=self.mongo_db, log = self.log.setup(component = arcticFuturesContractPriceData))                         This might be because import is missing                         or arguments don't follow pattern"
     ]
    }
   ],
   "source": [
    "data = dataBlob([arcticFuturesContractPriceData, arcticFuturesContractPriceData, mongoFuturesContractData])"
   ]
  },
  {
   "cell_type": "code",
   "execution_count": 11,
   "metadata": {},
   "outputs": [],
   "source": [
    "from sysproduction.reporting.adhoc.dynamic_optimisation import dynamic_optimisation_graphical as dp"
   ]
  },
  {
   "cell_type": "code",
   "execution_count": 13,
   "metadata": {},
   "outputs": [
    {
     "ename": "AttributeError",
     "evalue": "'str' object has no attribute 'add_class_object'",
     "output_type": "error",
     "traceback": [
      "\u001b[0;31m---------------------------------------------------------------------------\u001b[0m",
      "\u001b[0;31mAttributeError\u001b[0m                            Traceback (most recent call last)",
      "Cell \u001b[0;32mIn[13], line 1\u001b[0m\n\u001b[0;32m----> 1\u001b[0m dp1\u001b[39m=\u001b[39mdp(\u001b[39m\"\u001b[39;49m\u001b[39mEDOLLAR\u001b[39;49m\u001b[39m\"\u001b[39;49m, \u001b[39m\"\u001b[39;49m\u001b[39msma7_14\u001b[39;49m\u001b[39m\"\u001b[39;49m)\n",
      "File \u001b[0;32m~/Documents/pysystemtrade/sysproduction/reporting/adhoc/dynamic_optimisation.py:48\u001b[0m, in \u001b[0;36mdynamic_optimisation_graphical\u001b[0;34m(data, strategy_name)\u001b[0m\n\u001b[1;32m     42\u001b[0m \u001b[39mdef\u001b[39;00m \u001b[39mdynamic_optimisation_graphical\u001b[39m(data: dataBlob, strategy_name: \u001b[39mstr\u001b[39m):\n\u001b[1;32m     44\u001b[0m     report_config \u001b[39m=\u001b[39m reportConfig(\n\u001b[1;32m     45\u001b[0m         title\u001b[39m=\u001b[39m\u001b[39m\"\u001b[39m\u001b[39mDynamic Optimisation Graphical\u001b[39m\u001b[39m\"\u001b[39m, function\u001b[39m=\u001b[39m\u001b[39m\"\u001b[39m\u001b[39mnot_used\u001b[39m\u001b[39m\"\u001b[39m, output\u001b[39m=\u001b[39m\u001b[39m\"\u001b[39m\u001b[39mfile\u001b[39m\u001b[39m\"\u001b[39m\n\u001b[1;32m     46\u001b[0m     )\n\u001b[0;32m---> 48\u001b[0m     report_output \u001b[39m=\u001b[39m get_figures_for_DO(data, strategy_name)\n\u001b[1;32m     50\u001b[0m     parsed_report_results \u001b[39m=\u001b[39m parse_report_results(data, report_results\u001b[39m=\u001b[39mreport_output)\n\u001b[1;32m     52\u001b[0m     output_file_report(\n\u001b[1;32m     53\u001b[0m         parsed_report\u001b[39m=\u001b[39mparsed_report_results, data\u001b[39m=\u001b[39mdata, report_config\u001b[39m=\u001b[39mreport_config\n\u001b[1;32m     54\u001b[0m     )\n",
      "File \u001b[0;32m~/Documents/pysystemtrade/sysproduction/reporting/adhoc/dynamic_optimisation.py:59\u001b[0m, in \u001b[0;36mget_figures_for_DO\u001b[0;34m(data, strategy_name)\u001b[0m\n\u001b[1;32m     57\u001b[0m \u001b[39mdef\u001b[39;00m \u001b[39mget_figures_for_DO\u001b[39m(data: dataBlob, strategy_name: \u001b[39mstr\u001b[39m):\n\u001b[0;32m---> 59\u001b[0m     df_results \u001b[39m=\u001b[39m get_data_for_scatter_plot(data, strategy_name)\n\u001b[1;32m     60\u001b[0m     all_results \u001b[39m=\u001b[39m []\n\u001b[1;32m     61\u001b[0m     index_risk \u001b[39m=\u001b[39m get_notional_risk_target()\n",
      "File \u001b[0;32m~/Documents/pysystemtrade/sysproduction/reporting/adhoc/dynamic_optimisation.py:100\u001b[0m, in \u001b[0;36mget_data_for_scatter_plot\u001b[0;34m(data, strategy_name)\u001b[0m\n\u001b[1;32m     98\u001b[0m \u001b[39mdef\u001b[39;00m \u001b[39mget_data_for_scatter_plot\u001b[39m(data: dataBlob, strategy_name: \u001b[39mstr\u001b[39m) \u001b[39m-\u001b[39m\u001b[39m>\u001b[39m pd\u001b[39m.\u001b[39mDataFrame:\n\u001b[0;32m--> 100\u001b[0m     optimal_position_objects_as_list \u001b[39m=\u001b[39m get_optimal_position_objects_as_list(\n\u001b[1;32m    101\u001b[0m         data\u001b[39m=\u001b[39;49mdata, strategy_name\u001b[39m=\u001b[39;49mstrategy_name\n\u001b[1;32m    102\u001b[0m     )\n\u001b[1;32m    103\u001b[0m     unrounded_weights \u001b[39m=\u001b[39m get_unrounded_weights(optimal_position_objects_as_list)\n\u001b[1;32m    104\u001b[0m     optimised_weights \u001b[39m=\u001b[39m get_optimised_weights(optimal_position_objects_as_list)\n",
      "File \u001b[0;32m~/Documents/pysystemtrade/sysproduction/reporting/adhoc/dynamic_optimisation.py:196\u001b[0m, in \u001b[0;36mget_optimal_position_objects_as_list\u001b[0;34m(data, strategy_name)\u001b[0m\n\u001b[1;32m    195\u001b[0m \u001b[39mdef\u001b[39;00m \u001b[39mget_optimal_position_objects_as_list\u001b[39m(data: dataBlob, strategy_name: \u001b[39mstr\u001b[39m):\n\u001b[0;32m--> 196\u001b[0m     data_optimal_positions \u001b[39m=\u001b[39m dataOptimalPositions(data)\n\u001b[1;32m    197\u001b[0m     optimal_positions_as_list \u001b[39m=\u001b[39m (\n\u001b[1;32m    198\u001b[0m         data_optimal_positions\u001b[39m.\u001b[39mget_list_of_current_optimal_positions_for_strategy_name(\n\u001b[1;32m    199\u001b[0m             strategy_name\n\u001b[1;32m    200\u001b[0m         )\n\u001b[1;32m    201\u001b[0m     )\n\u001b[1;32m    202\u001b[0m     \u001b[39mreturn\u001b[39;00m optimal_positions_as_list\n",
      "File \u001b[0;32m~/Documents/pysystemtrade/sysproduction/data/generic_production_data.py:11\u001b[0m, in \u001b[0;36mproductionDataLayerGeneric.__init__\u001b[0;34m(self, data)\u001b[0m\n\u001b[1;32m      8\u001b[0m \u001b[39mif\u001b[39;00m data \u001b[39mis\u001b[39;00m arg_not_supplied:\n\u001b[1;32m      9\u001b[0m     data \u001b[39m=\u001b[39m dataBlob()\n\u001b[0;32m---> 11\u001b[0m data \u001b[39m=\u001b[39m \u001b[39mself\u001b[39;49m\u001b[39m.\u001b[39;49m_add_required_classes_to_data(data)\n\u001b[1;32m     12\u001b[0m \u001b[39mself\u001b[39m\u001b[39m.\u001b[39m_data \u001b[39m=\u001b[39m data\n\u001b[1;32m     13\u001b[0m \u001b[39mself\u001b[39m\u001b[39m.\u001b[39m_cache \u001b[39m=\u001b[39m Cache(\u001b[39mself\u001b[39m)\n",
      "File \u001b[0;32m~/Documents/pysystemtrade/sysproduction/data/optimal_positions.py:25\u001b[0m, in \u001b[0;36mdataOptimalPositions._add_required_classes_to_data\u001b[0;34m(self, data)\u001b[0m\n\u001b[1;32m     24\u001b[0m \u001b[39mdef\u001b[39;00m \u001b[39m_add_required_classes_to_data\u001b[39m(\u001b[39mself\u001b[39m, data) \u001b[39m-\u001b[39m\u001b[39m>\u001b[39m dataBlob:\n\u001b[0;32m---> 25\u001b[0m     data\u001b[39m.\u001b[39;49madd_class_object(arcticOptimalPositionData)\n\u001b[1;32m     27\u001b[0m     \u001b[39mreturn\u001b[39;00m data\n",
      "\u001b[0;31mAttributeError\u001b[0m: 'str' object has no attribute 'add_class_object'"
     ]
    }
   ],
   "source": [
    "dp1=dp(\"EDOLLAR\", \"sma7_14\")"
   ]
  },
  {
   "cell_type": "code",
   "execution_count": 8,
   "metadata": {},
   "outputs": [
    {
     "data": {
      "text/plain": [
       "<Axes: xlabel='index'>"
      ]
     },
     "execution_count": 8,
     "metadata": {},
     "output_type": "execute_result"
    },
    {
     "data": {
      "image/png": "[encoded data removed]",
      "text/plain": [
       "<Figure size 640x480 with 1 Axes>"
      ]
     },
     "metadata": {},
     "output_type": "display_data"
    }
   ],
   "source": [
    "system.accounts.pandl_for_instrument_forecast(\"EDOLLAR\", \"sma7_14\").curve().plot() ## Sharpe for a specific trading rule variation"
   ]
  },
  {
   "cell_type": "code",
   "execution_count": 9,
   "metadata": {},
   "outputs": [],
   "source": [
    "from systems.positionsizing import PositionSizing"
   ]
  },
  {
   "cell_type": "code",
   "execution_count": null,
   "metadata": {},
   "outputs": [],
   "source": [
    "\n",
    "        >>> from systems.tests.testdata import get_test_object_futures_with_comb_forecasts\n",
    "        >>> from systems.basesystem import System\n",
    "        >>> (comb, fcs, rules, rawdata, data, config)=get_test_object_futures_with_comb_forecasts()\n",
    "        >>> system=System([rawdata, rules, fcs, comb, PositionSizing()], data, config)\n",
    "        >>>\n",
    "        >>> system.positionSize.get_subsystem_position(\"EDOLLAR\").tail(2)\n",
    "                    ss_position\n",
    "        2015-12-10     1.811465\n",
    "        2015-12-11     2.544598\n",
    "        >>>\n",
    "        >>> system2=System([rawdata, rules, fcs, comb, PositionSizing()], data, config)\n",
    "        >>> system2.positionSize.get_subsystem_position(\"EDOLLAR\").tail(2)"
   ]
  },
  {
   "cell_type": "code",
   "execution_count": 1,
   "metadata": {},
   "outputs": [
    {
     "name": "stdout",
     "output_type": "stream",
     "text": [
      "Configuring sim logging\n"
     ]
    }
   ],
   "source": [
    "from systems.tests.testdata import get_test_object_futures_with_comb_forecasts\n",
    "from systems.basesystem import System"
   ]
  },
  {
   "cell_type": "code",
   "execution_count": 2,
   "metadata": {},
   "outputs": [],
   "source": [
    "(comb, fcs, rules, rawdata, data, config)=get_test_object_futures_with_comb_forecasts()"
   ]
  },
  {
   "cell_type": "code",
   "execution_count": 10,
   "metadata": {},
   "outputs": [
    {
     "name": "stdout",
     "output_type": "stream",
     "text": [
      "2023-08-06 17:56:54 DEBUG base_system {'stage': 'config'} Adding config defaults\n"
     ]
    }
   ],
   "source": [
    "system=System([rawdata, rules, fcs, comb, PositionSizing()], data, config)"
   ]
  },
  {
   "cell_type": "code",
   "execution_count": 12,
   "metadata": {},
   "outputs": [
    {
     "data": {
      "text/plain": [
       "index\n",
       "2022-12-05    7.918789\n",
       "2022-12-06    8.576367\n",
       "2022-12-07    9.497467\n",
       "2022-12-08    9.228865\n",
       "2022-12-09    8.537872\n",
       "2022-12-12    8.338655\n",
       "2022-12-13    8.503610\n",
       "2022-12-14    9.128390\n",
       "2022-12-15    9.583583\n",
       "2022-12-16    9.582780\n",
       "2022-12-19    8.884965\n",
       "2022-12-20    7.061002\n",
       "2022-12-21    6.073351\n",
       "2022-12-22    5.178671\n",
       "2022-12-23    4.344473\n",
       "2022-12-26    4.347353\n",
       "2022-12-27    2.642856\n",
       "2022-12-28    0.855897\n",
       "2022-12-29   -0.176062\n",
       "2022-12-30   -1.497134\n",
       "Freq: B, dtype: float64"
      ]
     },
     "execution_count": 12,
     "metadata": {},
     "output_type": "execute_result"
    }
   ],
   "source": [
    "system.positionSize.get_subsystem_position(\"EDOLLAR\").tail(20)"
   ]
  },
  {
   "cell_type": "code",
   "execution_count": 13,
   "metadata": {},
   "outputs": [],
   "source": [
    "# from systems.defaults import system_defaults\n",
    "from syscore.genutils import sign\n",
    "from systems.provided.futures_chapter15.basesystem import *\n",
    "from sysdata.config.configdata import Config\n",
    "from systems.forecasting import TradingRule\n",
    "from systems.positionsizing import PositionSizing\n",
    "from systems.system_cache import input, dont_cache, diagnostic, output\n",
    "# from syscore.fileutils import image_process\n",
    "\n",
    "from copy import copy\n",
    "import numpy as np\n",
    "import pandas as pd\n",
    "from random import getrandbits\n",
    "import matplotlib.pylab as plt"
   ]
  },
  {
   "cell_type": "code",
   "execution_count": 14,
   "metadata": {},
   "outputs": [],
   "source": [
    "def sma(price, Lfast, Lslow):\n",
    "    \n",
    "\n",
    "    fast_sma = price.rolling(Lfast, min_periods=1).mean()\n",
    "    slow_sma = price.rolling(Lslow, min_periods=1).mean()\n",
    "\n",
    "    position = fast_sma - slow_sma\n",
    "    position= np.where(fast_sma >slow_sma, 1, 0)\n",
    "    position= np.where(fast_sma <slow_sma, -1, position)\n",
    "   \n",
    "    position=pd.Series(position,index=fast_sma.index)\n",
    "    # binary = raw_ewmac.apply(sign)\n",
    "    # binary_position = 10 * binary\n",
    "    for i in range(len(position)):\n",
    "        if i%90==0:\n",
    "            position[i]=0\n",
    "        else:\n",
    "            position[i]=10\n",
    "            \n",
    "    print(position)\n",
    "\n",
    "    return position\n",
    "\n",
    "   "
   ]
  },
  {
   "cell_type": "code",
   "execution_count": 15,
   "metadata": {},
   "outputs": [],
   "source": [
    "def sma_with_expiry(price, Lfast, Lslow, carry_contract):\n",
    "    fast_sma = price.rolling(Lfast, min_periods=1).mean()\n",
    "    slow_sma = price.rolling(Lslow, min_periods=1).mean()\n",
    "\n",
    "    position = fast_sma - slow_sma\n",
    "    position = np.where(fast_sma > slow_sma, 1, 0)\n",
    "    position = np.where(fast_sma < slow_sma, -1, position)\n",
    "\n",
    "    position = pd.Series(position, index=fast_sma.index)\n",
    "\n",
    "    # Convert the CARRY_CONTRACT values to datetime objects\n",
    "    carry_contract_dates = pd.to_datetime(carry_contract, format='%Y%m%d')\n",
    "\n",
    "    # Mark the positions for new contracts on their expiry dates (position = 10)\n",
    "    position[carry_contract_dates] = 10\n",
    "\n",
    "    # Set the position to 0 three days before each contract expiry date\n",
    "    for expiry_date in carry_contract_dates:\n",
    "        three_days_before_expiry = expiry_date - pd.Timedelta(days=3)\n",
    "        position[three_days_before_expiry:expiry_date] = 0\n",
    "\n",
    "    return position"
   ]
  },
  {
   "cell_type": "code",
   "execution_count": 16,
   "metadata": {},
   "outputs": [],
   "source": [
    "results=[]\n",
    "\n",
    "simple_mav_rule = TradingRule(dict(function=sma, other_args=dict(Lfast=30, Lslow=100)))"
   ]
  },
  {
   "cell_type": "code",
   "execution_count": 17,
   "metadata": {},
   "outputs": [],
   "source": [
    "config= Config(dict(trading_rules = dict(sma=simple_mav_rule), Xfactor=4,\n",
    "                    percentage_vol_target=16.0))"
   ]
  },
  {
   "cell_type": "code",
   "execution_count": 18,
   "metadata": {},
   "outputs": [],
   "source": [
    "data = csvFuturesSimData()"
   ]
  },
  {
   "cell_type": "code",
   "execution_count": 19,
   "metadata": {},
   "outputs": [
    {
     "data": {
      "text/html": [
       "<div>\n",
       "<style scoped>\n",
       "    .dataframe tbody tr th:only-of-type {\n",
       "        vertical-align: middle;\n",
       "    }\n",
       "\n",
       "    .dataframe tbody tr th {\n",
       "        vertical-align: top;\n",
       "    }\n",
       "\n",
       "    .dataframe thead th {\n",
       "        text-align: right;\n",
       "    }\n",
       "</style>\n",
       "<table border=\"1\" class=\"dataframe\">\n",
       "  <thead>\n",
       "    <tr style=\"text-align: right;\">\n",
       "      <th></th>\n",
       "      <th>PRICE</th>\n",
       "      <th>CARRY</th>\n",
       "      <th>PRICE_CONTRACT</th>\n",
       "      <th>CARRY_CONTRACT</th>\n",
       "    </tr>\n",
       "    <tr>\n",
       "      <th>index</th>\n",
       "      <th></th>\n",
       "      <th></th>\n",
       "      <th></th>\n",
       "      <th></th>\n",
       "    </tr>\n",
       "  </thead>\n",
       "  <tbody>\n",
       "    <tr>\n",
       "      <th>1982-09-14 23:00:00</th>\n",
       "      <td>123.70</td>\n",
       "      <td>NaN</td>\n",
       "      <td>19821200</td>\n",
       "      <td>19830300</td>\n",
       "    </tr>\n",
       "    <tr>\n",
       "      <th>1982-09-15 23:00:00</th>\n",
       "      <td>124.20</td>\n",
       "      <td>NaN</td>\n",
       "      <td>19821200</td>\n",
       "      <td>19830300</td>\n",
       "    </tr>\n",
       "    <tr>\n",
       "      <th>1982-09-16 23:00:00</th>\n",
       "      <td>123.55</td>\n",
       "      <td>NaN</td>\n",
       "      <td>19821200</td>\n",
       "      <td>19830300</td>\n",
       "    </tr>\n",
       "    <tr>\n",
       "      <th>1982-09-17 23:00:00</th>\n",
       "      <td>122.65</td>\n",
       "      <td>NaN</td>\n",
       "      <td>19821200</td>\n",
       "      <td>19830300</td>\n",
       "    </tr>\n",
       "    <tr>\n",
       "      <th>1982-09-20 23:00:00</th>\n",
       "      <td>123.45</td>\n",
       "      <td>NaN</td>\n",
       "      <td>19821200</td>\n",
       "      <td>19830300</td>\n",
       "    </tr>\n",
       "    <tr>\n",
       "      <th>...</th>\n",
       "      <td>...</td>\n",
       "      <td>...</td>\n",
       "      <td>...</td>\n",
       "      <td>...</td>\n",
       "    </tr>\n",
       "    <tr>\n",
       "      <th>2022-12-29 18:00:00</th>\n",
       "      <td>3877.75</td>\n",
       "      <td>3912.0</td>\n",
       "      <td>20230300</td>\n",
       "      <td>20230600</td>\n",
       "    </tr>\n",
       "    <tr>\n",
       "      <th>2022-12-29 19:00:00</th>\n",
       "      <td>3874.25</td>\n",
       "      <td>3909.5</td>\n",
       "      <td>20230300</td>\n",
       "      <td>20230600</td>\n",
       "    </tr>\n",
       "    <tr>\n",
       "      <th>2022-12-29 20:00:00</th>\n",
       "      <td>3872.25</td>\n",
       "      <td>3906.0</td>\n",
       "      <td>20230300</td>\n",
       "      <td>20230600</td>\n",
       "    </tr>\n",
       "    <tr>\n",
       "      <th>2022-12-29 21:00:00</th>\n",
       "      <td>3869.25</td>\n",
       "      <td>3903.5</td>\n",
       "      <td>20230300</td>\n",
       "      <td>20230600</td>\n",
       "    </tr>\n",
       "    <tr>\n",
       "      <th>2022-12-29 23:00:00</th>\n",
       "      <td>3869.25</td>\n",
       "      <td>3903.5</td>\n",
       "      <td>20230300</td>\n",
       "      <td>20230600</td>\n",
       "    </tr>\n",
       "  </tbody>\n",
       "</table>\n",
       "<p>33092 rows × 4 columns</p>\n",
       "</div>"
      ],
      "text/plain": [
       "                       PRICE   CARRY PRICE_CONTRACT CARRY_CONTRACT\n",
       "index                                                             \n",
       "1982-09-14 23:00:00   123.70     NaN       19821200       19830300\n",
       "1982-09-15 23:00:00   124.20     NaN       19821200       19830300\n",
       "1982-09-16 23:00:00   123.55     NaN       19821200       19830300\n",
       "1982-09-17 23:00:00   122.65     NaN       19821200       19830300\n",
       "1982-09-20 23:00:00   123.45     NaN       19821200       19830300\n",
       "...                      ...     ...            ...            ...\n",
       "2022-12-29 18:00:00  3877.75  3912.0       20230300       20230600\n",
       "2022-12-29 19:00:00  3874.25  3909.5       20230300       20230600\n",
       "2022-12-29 20:00:00  3872.25  3906.0       20230300       20230600\n",
       "2022-12-29 21:00:00  3869.25  3903.5       20230300       20230600\n",
       "2022-12-29 23:00:00  3869.25  3903.5       20230300       20230600\n",
       "\n",
       "[33092 rows x 4 columns]"
      ]
     },
     "execution_count": 19,
     "metadata": {},
     "output_type": "execute_result"
    }
   ],
   "source": [
    "df=data.get_instrument_raw_carry_data('SP500')\n",
    "df"
   ]
  },
  {
   "cell_type": "code",
   "execution_count": 45,
   "metadata": {},
   "outputs": [],
   "source": [
    "from systems.rawdata import RawData"
   ]
  },
  {
   "cell_type": "code",
   "execution_count": 46,
   "metadata": {},
   "outputs": [
    {
     "name": "stdout",
     "output_type": "stream",
     "text": [
      "2023-08-07 11:51:08 DEBUG base_system {'stage': 'config'} Adding config defaults\n"
     ]
    }
   ],
   "source": [
    "system = System([\n",
    "    Account(), Portfolios(), RawData(),\n",
    "    ForecastCombine(), ForecastScaleCap(), Rules(simple_mav_rule)\n",
    "], data, config)"
   ]
  },
  {
   "cell_type": "code",
   "execution_count": 47,
   "metadata": {},
   "outputs": [
    {
     "name": "stdout",
     "output_type": "stream",
     "text": [
      "2023-08-07 11:51:10 DEBUG base_system Following instruments are 'duplicate_markets' ['Another_thing', 'bad_thing'] \n",
      "2023-08-07 11:51:10 DEBUG base_system Following instruments are marked as 'ignore_instruments': not included: ['EXAMPLE']\n",
      "2023-08-07 11:51:10 DEBUG base_system Following instruments removed entirely from sim: ['Another_thing', 'EXAMPLE', 'bad_thing']\n",
      "2023-08-07 11:51:10 DEBUG base_system {'stage': 'rules', 'instrument_code': 'CORN'} Calculating raw forecast CORN for rule0\n",
      "index\n",
      "1972-10-18         0\n",
      "1972-10-19    100000\n",
      "1972-10-20    100000\n",
      "1972-10-23    100000\n",
      "1972-10-24    100000\n",
      "               ...  \n",
      "2022-12-26    100000\n",
      "2022-12-27    100000\n",
      "2022-12-28    100000\n",
      "2022-12-29    100000\n",
      "2022-12-30    100000\n",
      "Freq: B, Length: 13098, dtype: int64\n",
      "2023-08-07 11:51:11 DEBUG base_system {'stage': 'rules', 'instrument_code': 'EDOLLAR'} Calculating raw forecast EDOLLAR for rule0\n",
      "index\n",
      "1984-03-23         0\n",
      "1984-03-26    100000\n",
      "1984-03-27    100000\n",
      "1984-03-28    100000\n",
      "1984-03-29    100000\n",
      "               ...  \n",
      "2022-12-26    100000\n",
      "2022-12-27    100000\n",
      "2022-12-28    100000\n",
      "2022-12-29    100000\n",
      "2022-12-30    100000\n",
      "Freq: B, Length: 10116, dtype: int64\n",
      "2023-08-07 11:51:11 DEBUG base_system {'stage': 'rules', 'instrument_code': 'EUROSTX'} Calculating raw forecast EUROSTX for rule0\n",
      "index\n",
      "2014-03-13         0\n",
      "2014-03-14    100000\n",
      "2014-03-17    100000\n",
      "2014-03-18    100000\n",
      "2014-03-19    100000\n",
      "               ...  \n",
      "2022-12-26    100000\n",
      "2022-12-27    100000\n",
      "2022-12-28    100000\n",
      "2022-12-29    100000\n",
      "2022-12-30    100000\n",
      "Freq: B, Length: 2297, dtype: int64\n",
      "2023-08-07 11:51:11 DEBUG base_system {'stage': 'rules', 'instrument_code': 'MXP'} Calculating raw forecast MXP for rule0\n",
      "index\n",
      "1995-09-15         0\n",
      "1995-09-18    100000\n",
      "1995-09-19    100000\n",
      "1995-09-20    100000\n",
      "1995-09-21    100000\n",
      "               ...  \n",
      "2022-12-26    100000\n",
      "2022-12-27    100000\n",
      "2022-12-28    100000\n",
      "2022-12-29    100000\n",
      "2022-12-30    100000\n",
      "Freq: B, Length: 7121, dtype: int64\n",
      "2023-08-07 11:51:11 DEBUG base_system {'stage': 'rules', 'instrument_code': 'US10'} Calculating raw forecast US10 for rule0\n",
      "index\n",
      "1982-08-30         0\n",
      "1982-08-31    100000\n",
      "1982-09-01    100000\n",
      "1982-09-02    100000\n",
      "1982-09-03    100000\n",
      "               ...  \n",
      "2022-12-22    100000\n",
      "2022-12-23    100000\n",
      "2022-12-26    100000\n",
      "2022-12-27    100000\n",
      "2022-12-28    100000\n",
      "Freq: B, Length: 10523, dtype: int64\n",
      "2023-08-07 11:51:11 DEBUG base_system {'stage': 'rules', 'instrument_code': 'V2X'} Calculating raw forecast V2X for rule0\n",
      "index\n",
      "2013-01-02         0\n",
      "2013-01-03    100000\n",
      "2013-01-04    100000\n",
      "2013-01-07    100000\n",
      "2013-01-08    100000\n",
      "               ...  \n",
      "2022-12-22    100000\n",
      "2022-12-23    100000\n",
      "2022-12-26    100000\n",
      "2022-12-27    100000\n",
      "2022-12-28    100000\n",
      "Freq: B, Length: 2606, dtype: int64\n"
     ]
    }
   ],
   "source": [
    "system.set_logging_level(\"on\")\n",
    "all_positions=[system.rules.get_raw_forecast(instrument, 'rule0') for instrument in system.get_instrument_list()]\n",
    "\n",
    "all_positions_stacked = pd.concat(all_positions,axis=0)"
   ]
  },
  {
   "cell_type": "code",
   "execution_count": 48,
   "metadata": {},
   "outputs": [],
   "source": [
    "def tradesperyear(x):\n",
    "    y= x!=x.shift(1)\n",
    "    totaly=y.sum()\n",
    "    years = len(y)/250.0\n",
    "\n",
    "    return totaly / years"
   ]
  },
  {
   "cell_type": "code",
   "execution_count": 49,
   "metadata": {},
   "outputs": [],
   "source": [
    "\n",
    "results.append(( tradesperyear(all_positions_stacked)))"
   ]
  },
  {
   "cell_type": "code",
   "execution_count": 50,
   "metadata": {},
   "outputs": [
    {
     "data": {
      "text/plain": [
       "[5.583357007058412]"
      ]
     },
     "execution_count": 50,
     "metadata": {},
     "output_type": "execute_result"
    }
   ],
   "source": [
    "results"
   ]
  },
  {
   "cell_type": "code",
   "execution_count": 62,
   "metadata": {},
   "outputs": [
    {
     "name": "stdout",
     "output_type": "stream",
     "text": [
      "index\n",
      "1982-09-14     0\n",
      "1982-09-15    10\n",
      "1982-09-16    10\n",
      "1982-09-17    10\n",
      "1982-09-20    10\n",
      "              ..\n",
      "2022-12-23    10\n",
      "2022-12-26    10\n",
      "2022-12-27    10\n",
      "2022-12-28    10\n",
      "2022-12-29    10\n",
      "Freq: B, Length: 10513, dtype: int64\n"
     ]
    }
   ],
   "source": [
    "price = data.daily_prices('SP500')\n",
    "fun=sma(price,3,90)"
   ]
  },
  {
   "cell_type": "code",
   "execution_count": 23,
   "metadata": {},
   "outputs": [],
   "source": [
    "fun.columns=['forecast']"
   ]
  },
  {
   "cell_type": "code",
   "execution_count": 24,
   "metadata": {},
   "outputs": [],
   "source": [
    "import systems"
   ]
  },
  {
   "cell_type": "code",
   "execution_count": 42,
   "metadata": {},
   "outputs": [
    {
     "data": {
      "text/plain": [
       "0.0025014644782985194"
      ]
     },
     "execution_count": 42,
     "metadata": {},
     "output_type": "execute_result"
    }
   ],
   "source": [
    "systems.accounts.account_forecast.pandl_for_instrument_forecast(price_series,fun).sharpe()"
   ]
  },
  {
   "cell_type": "code",
   "execution_count": 40,
   "metadata": {},
   "outputs": [
    {
     "data": {
      "text/plain": [
       "<Axes: xlabel='index'>"
      ]
     },
     "execution_count": 40,
     "metadata": {},
     "output_type": "execute_result"
    },
    {
     "data": {
      "image/png": "[encoded data removed]",
      "text/plain": [
       "<Figure size 640x480 with 1 Axes>"
      ]
     },
     "metadata": {},
     "output_type": "display_data"
    }
   ],
   "source": [
    "systems.accounts.account_forecast.pandl_for_instrument_forecast(price_series,fun).curve().plot()"
   ]
  },
  {
   "cell_type": "code",
   "execution_count": 38,
   "metadata": {},
   "outputs": [
    {
     "data": {
      "text/plain": [
       "[[('min', '-1884'),\n",
       "  ('max', '1854'),\n",
       "  ('median', '0'),\n",
       "  ('mean', '0.02403'),\n",
       "  ('std', '153.7'),\n",
       "  ('skew', '0.0235'),\n",
       "  ('ann_mean', '6.153'),\n",
       "  ('ann_std', '2460'),\n",
       "  ('sharpe', '0.002501'),\n",
       "  ('sortino', '0.003269'),\n",
       "  ('avg_drawdown', '-124'),\n",
       "  ('time_in_drawdown', '0.953'),\n",
       "  ('calmar', '0.003012'),\n",
       "  ('avg_return_to_drawdown', '0.04963'),\n",
       "  ('avg_loss', '-101.3'),\n",
       "  ('avg_gain', '102.1'),\n",
       "  ('gaintolossratio', '1.008'),\n",
       "  ('profitfactor', '1'),\n",
       "  ('hitrate', '0.4982'),\n",
       "  ('t_stat', '0.01603'),\n",
       "  ('p_value', '0.9872')],\n",
       " ('You can also plot / print:',\n",
       "  ['rolling_ann_std', 'drawdown', 'curve', 'percent'])]"
      ]
     },
     "execution_count": 38,
     "metadata": {},
     "output_type": "execute_result"
    }
   ],
   "source": [
    "systems.accounts.account_forecast.pandl_for_instrument_forecast(price_series,fun).percent.stats()"
   ]
  },
  {
   "cell_type": "code",
   "execution_count": 37,
   "metadata": {},
   "outputs": [
    {
     "data": {
      "text/plain": [
       "<Axes: xlabel='index'>"
      ]
     },
     "execution_count": 37,
     "metadata": {},
     "output_type": "execute_result"
    },
    {
     "data": {
      "image/png": "[encoded data removed]",
      "text/plain": [
       "<Figure size 640x480 with 1 Axes>"
      ]
     },
     "metadata": {},
     "output_type": "display_data"
    }
   ],
   "source": [
    "systems.accounts.account_forecast.pandl_for_instrument_forecast(price_series,fun).percent.plot()"
   ]
  },
  {
   "cell_type": "code",
   "execution_count": 34,
   "metadata": {},
   "outputs": [],
   "source": [
    "def buy_hold(price, carry_contract):\n",
    "    position = pd.Series(1000,index=price.index)\n",
    "    for i, v in enumerate(position):\n",
    "        if i & 1:\n",
    "            position[i] = 1000\n",
    "        else:\n",
    "            position[i] = 0\n",
    "    \n",
    "        \n",
    "\n",
    "    return position"
   ]
  },
  {
   "cell_type": "code",
   "execution_count": 35,
   "metadata": {},
   "outputs": [
    {
     "name": "stdout",
     "output_type": "stream",
     "text": [
      "index\n",
      "1982-09-14 23:00:00       0\n",
      "1982-09-15 23:00:00    1000\n",
      "1982-09-16 23:00:00       0\n",
      "1982-09-17 23:00:00    1000\n",
      "1982-09-20 23:00:00       0\n",
      "                       ... \n",
      "2022-12-29 18:00:00    1000\n",
      "2022-12-29 19:00:00       0\n",
      "2022-12-29 20:00:00    1000\n",
      "2022-12-29 21:00:00       0\n",
      "2022-12-29 23:00:00    1000\n",
      "Length: 33092, dtype: int64\n"
     ]
    }
   ],
   "source": [
    "\n",
    "price_series = df['PRICE']\n",
    "carry_contract_series = df['CARRY_CONTRACT']\n",
    "\n",
    "fun = buy_hold(price_series, carry_contract_series)\n",
    "print(fun)"
   ]
  },
  {
   "cell_type": "code",
   "execution_count": 36,
   "metadata": {},
   "outputs": [],
   "source": [
    "fun.columns=['forecast']"
   ]
  }
 ],
 "metadata": {
  "kernelspec": {
   "display_name": "pysys",
   "language": "python",
   "name": "python3"
  },
  "language_info": {
   "codemirror_mode": {
    "name": "ipython",
    "version": 3
   },
   "file_extension": ".py",
   "mimetype": "text/x-python",
   "name": "python",
   "nbconvert_exporter": "python",
   "pygments_lexer": "ipython3",
   "version": "3.8.17"
  },
  "orig_nbformat": 4
 },
 "nbformat": 4,
 "nbformat_minor": 2
}
